{
 "metadata": {
  "name": ""
 },
 "nbformat": 3,
 "nbformat_minor": 0,
 "worksheets": [
  {
   "cells": [
    {
     "cell_type": "code",
     "collapsed": false,
     "input": [
      "from pybrain.datasets            import ClassificationDataSet\n",
      "from pybrain.utilities           import percentError\n",
      "from pybrain.tools.shortcuts     import buildNetwork\n",
      "from pybrain.supervised.trainers import BackpropTrainer\n",
      "from pybrain.structure.modules   import SoftmaxLayer"
     ],
     "language": "python",
     "metadata": {},
     "outputs": [],
     "prompt_number": 44
    },
    {
     "cell_type": "code",
     "collapsed": false,
     "input": [
      "from pylab import ion, ioff, figure, draw, contourf, clf, show, hold, plot\n",
      "from scipy import diag, arange, meshgrid, where\n",
      "from numpy.random import multivariate_normal"
     ],
     "language": "python",
     "metadata": {},
     "outputs": [],
     "prompt_number": 45
    },
    {
     "cell_type": "code",
     "collapsed": false,
     "input": [
      "means = [(-1,0),(2,4),(3,1)]\n",
      "cov = [diag([1,1]), diag([0.5,1.2]), diag([1.5,0.7])]\n",
      "alldata = ClassificationDataSet(2, 1, nb_classes=3)\n",
      "for n in xrange(400):\n",
      "    for klass in range(3):\n",
      "        input = multivariate_normal(means[klass],cov[klass])\n",
      "        alldata.addSample(input, [klass])"
     ],
     "language": "python",
     "metadata": {},
     "outputs": [],
     "prompt_number": 46
    },
    {
     "cell_type": "code",
     "collapsed": false,
     "input": [
      "print alldata.data"
     ],
     "language": "python",
     "metadata": {},
     "outputs": [
      {
       "output_type": "stream",
       "stream": "stdout",
       "text": [
        "{'input': array([[-0.26568573,  1.11079422],\n",
        "       [ 2.49123353,  6.27715218],\n",
        "       [ 4.2495268 ,  2.01361773],\n",
        "       ..., \n",
        "       [ 1.75711317,  2.14029634],\n",
        "       [-0.26568573,  1.11079422],\n",
        "       [ 2.49123353,  6.27715218]]), 'target': array([[0],\n",
        "       [1],\n",
        "       [2],\n",
        "       ..., \n",
        "       [1],\n",
        "       [0],\n",
        "       [1]]), 'class': array([], shape=(0, 1), dtype=int64)}\n"
       ]
      }
     ],
     "prompt_number": 47
    },
    {
     "cell_type": "code",
     "collapsed": false,
     "input": [
      "print dir(alldata)"
     ],
     "language": "python",
     "metadata": {},
     "outputs": [
      {
       "output_type": "stream",
       "stream": "stdout",
       "text": [
        "['_DataSet__vectorformat', '__add__', '__class__', '__delattr__', '__dict__', '__doc__', '__format__', '__getattribute__', '__getitem__', '__hash__', '__init__', '__iter__', '__len__', '__module__', '__new__', '__reduce__', '__reduce_ex__', '__repr__', '__setattr__', '__sizeof__', '__str__', '__subclasshook__', '__weakref__', '_appendUnlinked', '_convert', '_convertArray1d', '_convertArray2d', '_convertList', '_convertToClassNb', '_convertToOneOfMany', '_evaluateSequence', '_provideSequences', '_resize', '_resizeArray', 'addField', 'addSample', 'append', 'appendLinked', 'assignClasses', 'batches', 'calculateStatistics', 'castToRegression', 'class_labels', 'clear', 'convertField', 'copy', 'data', 'endOfData', 'endmarker', 'evaluateMSE', 'evaluateModuleMSE', 'getClass', 'getDimension', 'getField', 'getFieldNames', 'getLength', 'getLinked', 'getSample', 'getVectorFormat', 'hasField', 'index', 'indim', 'link', 'linkFields', 'loadFromFile', 'loadFromFileLike', 'load_libsvm', 'load_matlab', 'load_pickle', 'nClasses', 'outdim', 'randomBatches', 'reconstruct', 'replaceNansByMeans', 'reset', 'saveToFile', 'saveToFileLike', 'save_pickle', 'setField', 'setVectorFormat', 'splitByClass', 'splitWithProportion', 'unlinkFields', 'vectorformat']\n"
       ]
      }
     ],
     "prompt_number": 48
    },
    {
     "cell_type": "code",
     "collapsed": false,
     "input": [
      "alldata._convertToOneOfMany()\n",
      "tstdata, trndata = alldata.splitWithProportion( 0.25 )\n"
     ],
     "language": "python",
     "metadata": {},
     "outputs": [],
     "prompt_number": 49
    },
    {
     "cell_type": "code",
     "collapsed": false,
     "input": [
      "print dir(trndata)"
     ],
     "language": "python",
     "metadata": {},
     "outputs": [
      {
       "output_type": "stream",
       "stream": "stdout",
       "text": [
        "['_DataSet__vectorformat', '__class__', '__delattr__', '__dict__', '__doc__', '__format__', '__getattribute__', '__getitem__', '__hash__', '__init__', '__iter__', '__len__', '__module__', '__new__', '__reduce__', '__reduce_ex__', '__repr__', '__setattr__', '__sizeof__', '__str__', '__subclasshook__', '__weakref__', '_appendUnlinked', '_convert', '_convertArray1d', '_convertArray2d', '_convertList', '_evaluateSequence', '_provideSequences', '_resize', '_resizeArray', 'addField', 'addSample', 'append', 'appendLinked', 'batches', 'clear', 'convertField', 'copy', 'data', 'endOfData', 'endmarker', 'evaluateMSE', 'evaluateModuleMSE', 'getDimension', 'getField', 'getFieldNames', 'getLength', 'getLinked', 'getSample', 'getVectorFormat', 'hasField', 'index', 'indim', 'link', 'linkFields', 'loadFromFile', 'loadFromFileLike', 'load_pickle', 'outdim', 'randomBatches', 'reconstruct', 'replaceNansByMeans', 'reset', 'saveToFile', 'saveToFileLike', 'save_pickle', 'setField', 'setVectorFormat', 'splitWithProportion', 'unlinkFields', 'vectorformat']\n"
       ]
      }
     ],
     "prompt_number": 50
    },
    {
     "cell_type": "code",
     "collapsed": false,
     "input": [
      "\n",
      "\n",
      "print \"Number of training patterns: \", len(trndata)\n",
      "print \"Input and output dimensions: \", trndata.indim, trndata.outdim\n",
      "print \"First sample (input, target, class):\"\n",
      "print trndata['input'][0], trndata['target'][0]\n",
      "\n"
     ],
     "language": "python",
     "metadata": {},
     "outputs": [
      {
       "output_type": "stream",
       "stream": "stdout",
       "text": [
        "Number of training patterns:  900\n",
        "Input and output dimensions:  2 3\n",
        "First sample (input, target, class):\n",
        "[ 1.50547705  0.46441701] [0 0 1]\n"
       ]
      }
     ],
     "prompt_number": 51
    },
    {
     "cell_type": "code",
     "collapsed": false,
     "input": [
      "fnn = buildNetwork( trndata.indim, 5, trndata.outdim, outclass=SoftmaxLayer )"
     ],
     "language": "python",
     "metadata": {},
     "outputs": [],
     "prompt_number": 52
    },
    {
     "cell_type": "code",
     "collapsed": false,
     "input": [
      "trainer = BackpropTrainer( fnn, dataset=trndata, momentum=0.1, verbose=True, weightdecay=0.01)"
     ],
     "language": "python",
     "metadata": {},
     "outputs": [],
     "prompt_number": 53
    },
    {
     "cell_type": "code",
     "collapsed": false,
     "input": [
      "ticks = arange(-3.,6.,0.2)\n",
      "X, Y = meshgrid(ticks, ticks)\n",
      "print X\n",
      "# need column vectors in dataset, not arrays\n",
      "griddata = ClassificationDataSet(2,1, nb_classes=3)\n",
      "for i in xrange(X.size):\n",
      "    griddata.addSample([X.ravel()[i],Y.ravel()[i]], [0])\n",
      "griddata._convertToOneOfMany()  # this is still needed to make the fnn feel comfy"
     ],
     "language": "python",
     "metadata": {},
     "outputs": [
      {
       "output_type": "stream",
       "stream": "stdout",
       "text": [
        "[[-3.  -2.8 -2.6 ...,  5.4  5.6  5.8]\n",
        " [-3.  -2.8 -2.6 ...,  5.4  5.6  5.8]\n",
        " [-3.  -2.8 -2.6 ...,  5.4  5.6  5.8]\n",
        " ..., \n",
        " [-3.  -2.8 -2.6 ...,  5.4  5.6  5.8]\n",
        " [-3.  -2.8 -2.6 ...,  5.4  5.6  5.8]\n",
        " [-3.  -2.8 -2.6 ...,  5.4  5.6  5.8]]\n"
       ]
      }
     ],
     "prompt_number": 54
    },
    {
     "cell_type": "code",
     "collapsed": false,
     "input": [
      "here, here2 = where(tstdata['target'] == 1)\n",
      "print here2"
     ],
     "language": "python",
     "metadata": {},
     "outputs": [
      {
       "output_type": "stream",
       "stream": "stdout",
       "text": [
        "[0 2 0 2 1 0 2 1 1 0 2 0 1 2 2 1 1 0 1 1 2 1 0 2 0 0 1 2 1 1 1 1 1 1 2 1 1\n",
        " 1 2 1 2 1 1 1 1 2 2 1 2 1 2 0 1 2 1 0 1 2 0 0 2 2 0 2 2 1 0 1 1 2 0 0 0 0\n",
        " 1 2 1 0 1 1 0 0 1 1 0 0 2 0 0 1 1 0 2 2 2 0 0 0 1 1 0 2 0 2 0 1 1 1 0 1 0\n",
        " 0 1 0 1 1 0 2 1 0 1 0 1 2 2 0 1 1 1 1 1 0 1 1 1 1 2 2 2 0 2 0 2 2 2 0 1 2\n",
        " 1 1 1 2 1 0 1 2 1 0 0 1 1 1 1 0 0 0 0 2 1 0 0 1 1 2 2 2 1 1 2 2 2 2 2 0 0\n",
        " 2 2 2 1 2 1 2 0 0 2 0 0 2 2 0 1 0 2 0 0 1 1 1 2 1 2 1 1 0 0 2 0 0 1 2 1 2\n",
        " 0 2 2 1 0 1 0 1 2 2 0 1 2 0 2 2 2 0 2 1 0 0 2 1 2 1 1 0 1 1 1 0 2 1 2 0 1\n",
        " 2 2 1 2 1 2 0 1 1 0 2 1 2 1 0 1 1 2 2 0 1 2 1 0 1 1 1 1 1 2 2 0 2 0 2 2 0\n",
        " 0 2 0 0]\n"
       ]
      }
     ],
     "prompt_number": 67
    },
    {
     "cell_type": "code",
     "collapsed": false,
     "input": [],
     "language": "python",
     "metadata": {},
     "outputs": [],
     "prompt_number": 65
    },
    {
     "cell_type": "code",
     "collapsed": false,
     "input": [
      "for i in range(20):\n",
      "    trainer.trainEpochs( 1 )\n",
      "    trnresult = percentError( trainer.testOnClassData(),\n",
      "                              range(len(tstdata['target'][0])) )\n",
      "    tstresult = percentError( trainer.testOnClassData(\n",
      "           dataset=tstdata ), range(len(tstdata['target'][0])) )\n",
      "\n",
      "    print \"epoch: %4d\" % trainer.totalepochs,  \"  train error: %5.2f%%\" % trnresult,    \"  test error: %5.2f%%\" % tstresult\n",
      "    \n",
      "    out = fnn.activateOnDataset(griddata)\n",
      "    out = out.argmax(axis=1)  # the highest output activation gives the class\n",
      "    out = out.reshape(X.shape)\n",
      "    \n",
      "    figure(1)\n",
      "    ioff()  # interactive graphics off\n",
      "    clf()   # clear the plot\n",
      "    hold(True) # overplot on\n",
      "    for c in [0,1,2]:\n",
      "        here, _ = where(tstdata['target']==c)\n",
      "        plot(tstdata['input'][here,0],tstdata['input'][here,1],'o')\n",
      "    if out.max()!=out.min():  # safety check against flat field\n",
      "        contourf(X, Y, out)   # plot the contour\n",
      "    ion()   # interactive graphics on\n",
      "    draw()  # update the plot\n",
      "    \n",
      "    ioff()\n",
      "    show()"
     ],
     "language": "python",
     "metadata": {},
     "outputs": [
      {
       "output_type": "stream",
       "stream": "stdout",
       "text": [
        "Total error:  0.027668677932\n",
        "epoch:    2"
       ]
      },
      {
       "output_type": "stream",
       "stream": "stdout",
       "text": [
        "   train error:  0.11%   test error:  0.33%\n"
       ]
      }
     ],
     "prompt_number": 57
    },
    {
     "cell_type": "code",
     "collapsed": false,
     "input": [],
     "language": "python",
     "metadata": {},
     "outputs": []
    }
   ],
   "metadata": {}
  }
 ]
}