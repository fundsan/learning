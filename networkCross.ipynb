{
 "metadata": {
  "name": ""
 },
 "nbformat": 3,
 "nbformat_minor": 0,
 "worksheets": [
  {
   "cells": [
    {
     "cell_type": "code",
     "collapsed": false,
     "input": [
      "\n",
      "from sklearn.externals.six.moves import zip\n",
      "\n",
      "import matplotlib.pyplot as plt\n",
      "\n",
      "from sklearn.datasets import make_gaussian_quantiles\n",
      "from sklearn import svm\n",
      "from sklearn.metrics import accuracy_score\n",
      "from sklearn.tree import DecisionTreeClassifier\n",
      "import numpy as np\n",
      "import pandas as pd\n",
      "import sklearn as sk\n",
      "from sklearn import preprocessing\n",
      "\n",
      "letterdata = pd.read_csv('foresttrain.csv', header= 0) \n",
      "letterdata = letterdata.drop(u'Id',axis=1)\n",
      "letterdata.ix[letterdata.Cover_Type == 7] = 0\n",
      "\n",
      "connectdata = pd.read_csv('connect-4.csv', header= None) \n",
      "\n",
      "def splitColumns(dataset):\n",
      "    columns = []\n",
      "    binar = []\n",
      "    for key in dataset.columns:\n",
      "    \n",
      "        if len(dataset[key].groupby(dataset[key]).groups.keys()) >2:\n",
      "            columns.append(key)\n",
      "            \n",
      "        else:\n",
      "            binar.append(key)\n",
      "    return columns, binar\n",
      "connectCol, _ = splitColumns(connectdata)\n",
      "connectCol.remove(len(connectdata.columns)-1)\n",
      "from sklearn.feature_extraction import DictVectorizer\n",
      "\n",
      "def hot_dataframe(data, cols, replace=False):\n",
      "    \"\"\" \n",
      "    Modified from https://gist.github.com/kljensen/5452382\n",
      "    \"\"\"\n",
      "    vec = DictVectorizer()\n",
      "    #mkdict = lambda row: dict((col, row[col]) for col in cols)\n",
      "    collist = [column for column in cols.columns]\n",
      "    vecData = pd.DataFrame(vec.fit_transform(cols.to_dict(outtype='records')).toarray())\n",
      "    vecData.columns = vec.get_feature_names()\n",
      "    vecData.index = data.index\n",
      "    \n",
      "    if replace is True:\n",
      "        \n",
      "        data = data.drop(collist, axis=1)\n",
      "        data = data.join(vecData)\n",
      "    \n",
      "    return data, vecData\n",
      "\n",
      "connectdata, _ = hot_dataframe(connectdata,connectdata[connectCol],replace=True)\n",
      "\n",
      "\n",
      "\n",
      "def labelEncode(data, col, uni = False):\n",
      "    if uni == True:\n",
      "        if isinstance(col, pd.DataFrame):\n",
      "            collist = [column for column in col.columns]\n",
      "        else:\n",
      "            collist = [col.name]\n",
      "    else:\n",
      "        collist = col\n",
      "    le = preprocessing.LabelEncoder()\n",
      "    for column in collist:\n",
      "        data[column] = le.fit_transform(data[column])\n",
      "    return data\n",
      "connectdata = labelEncode( connectdata, connectdata[42],True)\n",
      "\n",
      "\n",
      "from sklearn.cross_validation import train_test_split\n",
      "import random\n",
      "from sklearn import tree\n",
      "import random\n",
      "import math"
     ],
     "language": "python",
     "metadata": {},
     "outputs": [],
     "prompt_number": 1
    },
    {
     "cell_type": "code",
     "collapsed": false,
     "input": [
      "from sklearn.cross_validation import train_test_split\n",
      "import random\n",
      "from pybrain.tools.shortcuts import buildNetwork\n",
      "from pybrain.datasets import SupervisedDataSet\n",
      "from pybrain.datasets import ClassificationDataSet"
     ],
     "language": "python",
     "metadata": {},
     "outputs": [],
     "prompt_number": 2
    },
    {
     "cell_type": "code",
     "collapsed": false,
     "input": [],
     "language": "python",
     "metadata": {},
     "outputs": [],
     "prompt_number": 3
    },
    {
     "cell_type": "code",
     "collapsed": false,
     "input": [
      "ds = ClassificationDataSet(len(connectdata.columns)-1,1,nb_classes=len(connectdata[42].groupby(connectdata[42]).groups.keys()))"
     ],
     "language": "python",
     "metadata": {},
     "outputs": [],
     "prompt_number": 4
    },
    {
     "cell_type": "code",
     "collapsed": false,
     "input": [
      "dt = ClassificationDataSet(len(letterdata.columns)-1,1,nb_classes=\n",
      "                           len(letterdata[u'Cover_Type'].groupby(letterdata[u'Cover_Type']).groups.keys()))"
     ],
     "language": "python",
     "metadata": {},
     "outputs": [],
     "prompt_number": 5
    },
    {
     "cell_type": "code",
     "collapsed": false,
     "input": [
      "values = connectdata.values\n",
      "values2= letterdata.values\n"
     ],
     "language": "python",
     "metadata": {},
     "outputs": [],
     "prompt_number": 6
    },
    {
     "cell_type": "code",
     "collapsed": false,
     "input": [
      "letterdata[u'Cover_Type'].groupby(letterdata[u'Cover_Type']).groups.keys()"
     ],
     "language": "python",
     "metadata": {},
     "outputs": [
      {
       "metadata": {},
       "output_type": "pyout",
       "prompt_number": 7,
       "text": [
        "[0, 1, 2, 3, 4, 5, 6]"
       ]
      }
     ],
     "prompt_number": 7
    },
    {
     "cell_type": "code",
     "collapsed": false,
     "input": [
      "for n in range(len(connectdata)):\n",
      "    \n",
      "    \n",
      "    ds.addSample(values[n,1:], values[n,0])"
     ],
     "language": "python",
     "metadata": {},
     "outputs": [],
     "prompt_number": 8
    },
    {
     "cell_type": "code",
     "collapsed": false,
     "input": [
      "for n in range(len(letterdata)):\n",
      "    dt.addSample(values2[n,:values2.shape[1]-1], values2[n,values2.shape[1]-1])"
     ],
     "language": "python",
     "metadata": {},
     "outputs": [],
     "prompt_number": 9
    },
    {
     "cell_type": "code",
     "collapsed": false,
     "input": [
      "ds._convertToOneOfMany( )\n",
      "dt._convertToOneOfMany( )"
     ],
     "language": "python",
     "metadata": {},
     "outputs": [],
     "prompt_number": 10
    },
    {
     "cell_type": "code",
     "collapsed": false,
     "input": [
      "from pybrain.supervised.trainers import BackpropTrainer\n",
      "from pybrain.structure import TanhLayer\n",
      "from pybrain.tools.validation import *\n",
      "from pybrain.utilities import percentError\n",
      "from pybrain.structure import FeedForwardNetwork"
     ],
     "language": "python",
     "metadata": {},
     "outputs": [],
     "prompt_number": 11
    },
    {
     "cell_type": "code",
     "collapsed": false,
     "input": [
      "tstdata2, trndata2 = dt.splitWithProportion( 0.5 )"
     ],
     "language": "python",
     "metadata": {},
     "outputs": [],
     "prompt_number": 12
    },
    {
     "cell_type": "code",
     "collapsed": false,
     "input": [
      "#valdata2, trndata2 = tstdata, trndata = dt.splitWithProportion( 0.1 )"
     ],
     "language": "python",
     "metadata": {},
     "outputs": [],
     "prompt_number": 13
    },
    {
     "cell_type": "code",
     "collapsed": false,
     "input": [
      "tstdata, trndata = ds.splitWithProportion( 0.5 )"
     ],
     "language": "python",
     "metadata": {},
     "outputs": [],
     "prompt_number": 14
    },
    {
     "cell_type": "code",
     "collapsed": false,
     "input": [
      "#valdata, trndata = tstdata, trndata = ds.splitWithProportion( 0.2 )"
     ],
     "language": "python",
     "metadata": {},
     "outputs": [],
     "prompt_number": 15
    },
    {
     "cell_type": "code",
     "collapsed": false,
     "input": [
      "net = buildNetwork(len(connectdata.columns)-1,5,len(connectdata[42].groupby(connectdata[42]).groups.keys()))"
     ],
     "language": "python",
     "metadata": {},
     "outputs": [],
     "prompt_number": 16
    },
    {
     "cell_type": "code",
     "collapsed": false,
     "input": [
      "net2 = buildNetwork(len(letterdata.columns)-1,5,len(letterdata[u'Cover_Type'].groupby(letterdata[u'Cover_Type']).groups.keys()))"
     ],
     "language": "python",
     "metadata": {},
     "outputs": [],
     "prompt_number": 17
    },
    {
     "cell_type": "code",
     "collapsed": false,
     "input": [
      "trainer = BackpropTrainer(net, trndata)"
     ],
     "language": "python",
     "metadata": {},
     "outputs": [],
     "prompt_number": 18
    },
    {
     "cell_type": "code",
     "collapsed": false,
     "input": [
      "trainer2 = BackpropTrainer(net2, trndata2)"
     ],
     "language": "python",
     "metadata": {},
     "outputs": [],
     "prompt_number": 19
    },
    {
     "cell_type": "code",
     "collapsed": false,
     "input": [],
     "language": "python",
     "metadata": {},
     "outputs": [],
     "prompt_number": 19
    },
    {
     "cell_type": "code",
     "collapsed": false,
     "input": [],
     "language": "python",
     "metadata": {},
     "outputs": [],
     "prompt_number": 19
    },
    {
     "cell_type": "code",
     "collapsed": false,
     "input": [],
     "language": "python",
     "metadata": {},
     "outputs": [
      {
       "ename": "NameError",
       "evalue": "name 'val' is not defined",
       "output_type": "pyerr",
       "traceback": [
        "\u001b[0;31m---------------------------------------------------------------------------\u001b[0m\n\u001b[0;31mNameError\u001b[0m                                 Traceback (most recent call last)",
        "\u001b[0;32m<ipython-input-20-ee1fc7aa7c73>\u001b[0m in \u001b[0;36m<module>\u001b[0;34m()\u001b[0m\n\u001b[0;32m----> 1\u001b[0;31m \u001b[0;32mprint\u001b[0m \u001b[0mval\u001b[0m\u001b[0;34m\u001b[0m\u001b[0m\n\u001b[0m",
        "\u001b[0;31mNameError\u001b[0m: name 'val' is not defined"
       ]
      }
     ],
     "prompt_number": 20
    },
    {
     "cell_type": "code",
     "collapsed": false,
     "input": [],
     "language": "python",
     "metadata": {},
     "outputs": [],
     "prompt_number": 20
    },
    {
     "cell_type": "code",
     "collapsed": true,
     "input": [
      "\n",
      "Ns = []\n",
      "final_cross_errors = []\n",
      "lowestErrorEpochs = []\n",
      "test_errors = []\n",
      "train_errors = []\n",
      "\n",
      "\n",
      "\n",
      "for time in range(5):\n",
      "    print time\n",
      "    val_errors = []\n",
      "    trndata, valdata = trndata.splitWithProportion( 0.8 )\n",
      "    Ns.append(len(trndata))\n",
      "    for epochs in range(20):\n",
      "        net = buildNetwork(len(connectdata.columns)-1,15,len(connectdata[42].groupby(connectdata[42]).groups.keys()),bias=True)\n",
      "        trainer = BackpropTrainer(net, trndata)\n",
      "        \n",
      "        trainer.trainEpochs(epoch)\n",
      "        net.sortModules()\n",
      "        mse = ModuleValidator()\n",
      "    \n",
      "        val_error = mse.MSE( net,valdata)\n",
      "        \n",
      "        val_errors.append(val_error)\n",
      "        \n",
      "    minError = min(val_errors)\n",
      "    minInd = val_errors.index(minError)\n",
      "    net = buildNetwork(len(connectdata.columns)-1,15,len(connectdata[42].groupby(connectdata[42]).groups.keys()),bias=True)\n",
      "    trainer = BackpropTrainer(net, trndata)\n",
      "    trainer.trainEpochs((minInd+1))\n",
      "    final_cross_errors.append(minError)\n",
      "    lowestErrorEpochs.append(minInd)\n",
      "    net.sortModules()\n",
      "    mse = ModuleValidator()\n",
      "    train_error =  mse.MSE(net , trndata)\n",
      "    train_errors.append(train_error)\n",
      "    test_error = mse.MSE(net, tstdata)\n",
      "    test_errors.append(test_error)"
     ],
     "language": "python",
     "metadata": {},
     "outputs": [
      {
       "ename": "NameError",
       "evalue": "name 'epoch' is not defined",
       "output_type": "pyerr",
       "traceback": [
        "\u001b[0;31m---------------------------------------------------------------------------\u001b[0m\n\u001b[0;31mNameError\u001b[0m                                 Traceback (most recent call last)",
        "\u001b[0;32m<ipython-input-21-bb3e7f2737ff>\u001b[0m in \u001b[0;36m<module>\u001b[0;34m()\u001b[0m\n\u001b[1;32m     17\u001b[0m         \u001b[0mtrainer\u001b[0m \u001b[0;34m=\u001b[0m \u001b[0mBackpropTrainer\u001b[0m\u001b[0;34m(\u001b[0m\u001b[0mnet\u001b[0m\u001b[0;34m,\u001b[0m \u001b[0mtrndata\u001b[0m\u001b[0;34m)\u001b[0m\u001b[0;34m\u001b[0m\u001b[0m\n\u001b[1;32m     18\u001b[0m \u001b[0;34m\u001b[0m\u001b[0m\n\u001b[0;32m---> 19\u001b[0;31m         \u001b[0mtrainer\u001b[0m\u001b[0;34m.\u001b[0m\u001b[0mtrainEpochs\u001b[0m\u001b[0;34m(\u001b[0m\u001b[0mepoch\u001b[0m\u001b[0;34m)\u001b[0m\u001b[0;34m\u001b[0m\u001b[0m\n\u001b[0m\u001b[1;32m     20\u001b[0m         \u001b[0mnet\u001b[0m\u001b[0;34m.\u001b[0m\u001b[0msortModules\u001b[0m\u001b[0;34m(\u001b[0m\u001b[0;34m)\u001b[0m\u001b[0;34m\u001b[0m\u001b[0m\n\u001b[1;32m     21\u001b[0m         \u001b[0mmse\u001b[0m \u001b[0;34m=\u001b[0m \u001b[0mModuleValidator\u001b[0m\u001b[0;34m(\u001b[0m\u001b[0;34m)\u001b[0m\u001b[0;34m\u001b[0m\u001b[0m\n",
        "\u001b[0;31mNameError\u001b[0m: name 'epoch' is not defined"
       ]
      },
      {
       "output_type": "stream",
       "stream": "stdout",
       "text": [
        "0\n"
       ]
      }
     ],
     "prompt_number": 21
    },
    {
     "cell_type": "code",
     "collapsed": true,
     "input": [
      "\n",
      "NsC = []\n",
      "final_cross_errorsC = []\n",
      "lowestErrorEpochs = []\n",
      "test_errorsC = []\n",
      "train_errorsC = []\n",
      "\n",
      "\n",
      "\n",
      "print time\n",
      "\n",
      "    \n",
      "NsC.append(len(trndata))\n",
      "    \n",
      "net = buildNetwork(len(connectdata.columns)-1,15,len(connectdata[42].groupby(connectdata[42]).groups.keys()),bias=True)\n",
      "trainer = BackpropTrainer(net, trndata)\n",
      "        \n",
      "trainer.trainUntilConvergence()\n",
      "net.sortModules()\n",
      "mse = ModuleValidator()\n",
      "    \n",
      "\n",
      "train_errorC =  mse.MSE(net , trndata)\n",
      "train_errorsC.append(train_errorC)\n",
      "test_errorC = mse.MSE(net, tstdata)\n",
      "test_errorsC.append(test_error)\n",
      "trndata, _ = trndata.splitWithProportion( 0.8 )"
     ],
     "language": "python",
     "metadata": {},
     "outputs": [],
     "prompt_number": "*"
    },
    {
     "cell_type": "code",
     "collapsed": false,
     "input": [],
     "language": "python",
     "metadata": {},
     "outputs": []
    },
    {
     "cell_type": "code",
     "collapsed": false,
     "input": [
      "print train_errors\n",
      "print test_errors\n",
      "print val_errors\n",
      "print Ns\n",
      "print lowestErrorEpochs\n",
      "print minError\n",
      "print minInd"
     ],
     "language": "python",
     "metadata": {},
     "outputs": [
      {
       "output_type": "stream",
       "stream": "stdout",
       "text": [
        "[0.11902025078628448, 0.11949928328133423, 0.13553015941642976, 0.18407996051051873, 0.12461618863542252]\n",
        "[0.12081211661523249, 0.12078266166141509, 0.13599774297859193, 0.1844134114074748, 0.12834416750410929]\n",
        "[6.2233569914802027, 5.2801308014097073, 4.269749940646534, 16.960848712564079, 6.0106013847325865, 12.451702433195221, 3.0979502568636494, 9.6172811124771123, 4.9286577405924294, 8.0275729321389431, 22.55438434866312, 3.8209448738228389, 11.447710615042659, 5.9568375876231823, 11.671227807154203, 13.773017003050827, 6.9687555767532867, 4.0748001063976647, 2.2366531267688639, 3.384062372293124]\n",
        "[27023, 21618, 17294, 13835, 11068]\n",
        "[8, 17, 13, 1, 18]\n",
        "2.23665312677\n",
        "18\n"
       ]
      }
     ],
     "prompt_number": 577
    },
    {
     "cell_type": "code",
     "collapsed": false,
     "input": [
      "plt.figure(1)\n",
      "\n",
      "plt.plot(Ns,test_errors , 'k', c='blue', label='Testing Error')\n",
      "plt.plot(Ns,train_errors , 'k', c='red', label='Training Error')\n",
      "plt.legend()\n",
      "plt.plot(Ns,test_errors , 'bo',c='blue')\n",
      "plt.plot(Ns,train_errors, 'bo', c='red')\n",
      "plt.ylabel('Error')\n",
      "plt.xlabel('Number of Instances For Training Set')\n",
      "plt.title('Hypothesis Error for Connect 4 Data on Nueral Networks( 15 Hidden Nodes)  ')\n",
      "plt.show()"
     ],
     "language": "python",
     "metadata": {},
     "outputs": []
    },
    {
     "cell_type": "code",
     "collapsed": false,
     "input": [
      "\n",
      "Ns2 = []\n",
      "final_cross_errors2 = []\n",
      "lowestErrorEpochs2 = []\n",
      "test_errors2 = []\n",
      "train_errors2 = []\n",
      "\n",
      "\n",
      "\n",
      "for time in range(5):\n",
      "    print time\n",
      "    val_errors2 = []\n",
      "    trndata2, valdata2 = trndata2.splitWithProportion( 0.8 )\n",
      "    Ns2.append(len(trndata2))\n",
      "    for epochs in range(20):\n",
      "        net2 = buildNetwork(len(connectdata.columns)-1,10,len(letterdata[u'Cover_Type'].groupby(letterdata[u'Cover_Type']).groups.keys()),bias=True)\n",
      "        trainer2 = BackpropTrainer(net2, trndata2)\n",
      "        \n",
      "        trainer2.trainEpochs(epoch)\n",
      "        net2.sortModules()\n",
      "        mse2 = ModuleValidator()\n",
      "    \n",
      "        val_error = mse2.MSE( net,valdata)\n",
      "        \n",
      "        val_errors2.append(val_error)\n",
      "        \n",
      "    minError2 = min(val_errors2)\n",
      "    minInd2 = val_errors2.index(minError)\n",
      "    net2 = buildNetwork(len(connectdata.columns)-1,10,len(letterdata[u'Cover_Type'].groupby(letterdata[u'Cover_Type']).groups.keys()),bias=True)\n",
      "    trainer2 = BackpropTrainer(net, trndata2)\n",
      "    trainer2.trainEpochs((minInd+1))\n",
      "    final_cross_errors2.append(minError2)\n",
      "    lowestErrorEpochs2.append(minInd2)\n",
      "    net2.sortModules()\n",
      "    mse2 = ModuleValidator()\n",
      "    train_error2 =  mse2.MSE(net , trndata2)\n",
      "    train_errors2.append(train_error)\n",
      "    test_error2 = mse.MSE(net, tstdata2)\n",
      "    test_errors2.append(test_error2)"
     ],
     "language": "python",
     "metadata": {},
     "outputs": [],
     "prompt_number": 298
    },
    {
     "cell_type": "code",
     "collapsed": false,
     "input": [
      "tst_error39 = sum39/len(tstdata)\n",
      "tst_error45 = sum45/len(tstdata)"
     ],
     "language": "python",
     "metadata": {},
     "outputs": [],
     "prompt_number": 299
    },
    {
     "cell_type": "code",
     "collapsed": false,
     "input": [
      "print tst_error39\n",
      "print tst_error45"
     ],
     "language": "python",
     "metadata": {},
     "outputs": [
      {
       "output_type": "stream",
       "stream": "stdout",
       "text": [
        "0.00985221674877\n",
        "0.000615763546798\n"
       ]
      }
     ],
     "prompt_number": 300
    },
    {
     "cell_type": "code",
     "collapsed": false,
     "input": [
      "Ns"
     ],
     "language": "python",
     "metadata": {},
     "outputs": [
      {
       "metadata": {},
       "output_type": "pyout",
       "prompt_number": 391,
       "text": [
        "[3377, 337, 33, 3, 0]"
       ]
      }
     ],
     "prompt_number": 391
    },
    {
     "cell_type": "code",
     "collapsed": false,
     "input": [
      "change = np.where(letterdata[u'Cover_Type'] == 7)"
     ],
     "language": "python",
     "metadata": {},
     "outputs": [],
     "prompt_number": 418
    },
    {
     "cell_type": "code",
     "collapsed": false,
     "input": [
      "letterdata.ix[letterdata.Cover_Type == 7] = 0"
     ],
     "language": "python",
     "metadata": {},
     "outputs": [],
     "prompt_number": 485
    },
    {
     "cell_type": "code",
     "collapsed": false,
     "input": [
      "gs = letterdata.groupby(u'Cover_Type',axis=1)[u'Cover_Type']\n",
      "def replace(g):\n",
      "   mask = g == 7\n",
      "   g.loc[mask] = 0\n",
      "   return g\n",
      "\n",
      "gs.transform(replace)"
     ],
     "language": "python",
     "metadata": {},
     "outputs": [],
     "prompt_number": 455
    },
    {
     "cell_type": "code",
     "collapsed": false,
     "input": [
      "letterdata.Cover_Type"
     ],
     "language": "python",
     "metadata": {},
     "outputs": [
      {
       "metadata": {},
       "output_type": "pyout",
       "prompt_number": 484,
       "text": [
        "0     5\n",
        "1     5\n",
        "2     2\n",
        "3     2\n",
        "4     5\n",
        "5     2\n",
        "6     5\n",
        "7     5\n",
        "8     5\n",
        "9     5\n",
        "10    5\n",
        "11    2\n",
        "12    2\n",
        "13    5\n",
        "14    5\n",
        "...\n",
        "15105    6\n",
        "15106    3\n",
        "15107    3\n",
        "15108    3\n",
        "15109    6\n",
        "15110    6\n",
        "15111    6\n",
        "15112    6\n",
        "15113    3\n",
        "15114    3\n",
        "15115    3\n",
        "15116    3\n",
        "15117    3\n",
        "15118    3\n",
        "15119    3\n",
        "Name: Cover_Type, Length: 15120, dtype: int64"
       ]
      }
     ],
     "prompt_number": 484
    },
    {
     "cell_type": "code",
     "collapsed": false,
     "input": [],
     "language": "python",
     "metadata": {},
     "outputs": [
      {
       "metadata": {},
       "output_type": "pyout",
       "prompt_number": 456,
       "text": [
        "0     5\n",
        "1     5\n",
        "2     2\n",
        "3     2\n",
        "4     5\n",
        "5     2\n",
        "6     5\n",
        "7     5\n",
        "8     5\n",
        "9     5\n",
        "10    5\n",
        "11    2\n",
        "12    2\n",
        "13    5\n",
        "14    5\n",
        "...\n",
        "15105    6\n",
        "15106    3\n",
        "15107    3\n",
        "15108    3\n",
        "15109    6\n",
        "15110    6\n",
        "15111    6\n",
        "15112    6\n",
        "15113    3\n",
        "15114    3\n",
        "15115    3\n",
        "15116    3\n",
        "15117    3\n",
        "15118    3\n",
        "15119    3\n",
        "Name: Cover_Type, Length: 15120, dtype: int64"
       ]
      }
     ],
     "prompt_number": 456
    },
    {
     "cell_type": "code",
     "collapsed": false,
     "input": [],
     "language": "python",
     "metadata": {},
     "outputs": [
      {
       "metadata": {},
       "output_type": "pyout",
       "prompt_number": 439,
       "text": [
        "False"
       ]
      }
     ],
     "prompt_number": 439
    },
    {
     "cell_type": "code",
     "collapsed": false,
     "input": [],
     "language": "python",
     "metadata": {},
     "outputs": []
    }
   ],
   "metadata": {}
  }
 ]
}