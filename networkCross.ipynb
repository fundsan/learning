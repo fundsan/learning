{
 "metadata": {
  "name": ""
 },
 "nbformat": 3,
 "nbformat_minor": 0,
 "worksheets": [
  {
   "cells": [
    {
     "cell_type": "code",
     "collapsed": false,
     "input": [
      "import pybrain as pb\n",
      "import numpy as np\n",
      "import pandas as pd\n",
      "import sklearn as sk\n",
      "from sklearn import preprocessing\n",
      "mush = pd.read_csv('mushrooms.csv', header=0) \n",
      "mush = mush.drop(['stalk_root','veil_type'], axis = 1)\n",
      "\n",
      "columns= []\n",
      "binar = []\n",
      "mushcols = mush.columns\n",
      "\n",
      "\n",
      "for key in mush.columns:\n",
      "    \n",
      "    if len(mush[key].groupby(mush[key]).groups.keys()) >2:\n",
      "        columns.append(unicode(key))\n",
      "        \n",
      "    else:\n",
      "        binar.append(unicode(key))\n",
      "        \n",
      "letter =  pd.read_csv('letter-recognition.data',header=0)\n",
      "\n",
      "from sklearn.feature_extraction import DictVectorizer\n",
      "\n",
      "def hot_dataframe(data, cols, replace=False):\n",
      "    \"\"\" \n",
      "    Modified from https://gist.github.com/kljensen/5452382\n",
      "    \"\"\"\n",
      "    vec = DictVectorizer()\n",
      "    #mkdict = lambda row: dict((col, row[col]) for col in cols)\n",
      "    collist = [unicode(column) for column in cols.columns]\n",
      "    vecData = pd.DataFrame(vec.fit_transform(cols.to_dict(outtype='records')).toarray())\n",
      "    vecData.columns = vec.get_feature_names()\n",
      "    vecData.index = data.index\n",
      "    \n",
      "    if replace is True:\n",
      "        \n",
      "        data = data.drop(collist, axis=1)\n",
      "        data = data.join(vecData)\n",
      "    \n",
      "    return data, vecData\n",
      "\n",
      "\n",
      "\n",
      "data,vec_data =  hot_dataframe(mush, mush[columns], replace= True)\n",
      "\n",
      "def labelEncode(data, col, uni = False):\n",
      "    if uni == True:\n",
      "        if isinstance(col, pd.DataFrame):\n",
      "            collist = [unicode(column) for column in col.columns]\n",
      "        else:\n",
      "            collist = [unicode(col.name)]\n",
      "    else:\n",
      "        collist = col\n",
      "    le = preprocessing.LabelEncoder()\n",
      "    for column in collist:\n",
      "        data[column] = le.fit_transform(data[column])\n",
      "    return data\n",
      "data = labelEncode(data, data[binar], True)\n",
      "\n",
      "letter = labelEncode(letter, letter[u'capital_letter'], True)    "
     ],
     "language": "python",
     "metadata": {},
     "outputs": [],
     "prompt_number": 3
    },
    {
     "cell_type": "code",
     "collapsed": false,
     "input": [
      "from sklearn.cross_validation import train_test_split\n",
      "import random\n",
      "from pybrain.tools.shortcuts import buildNetwork\n",
      "from pybrain.datasets import SupervisedDataSet\n",
      "from pybrain.datasets import ClassificationDataSet"
     ],
     "language": "python",
     "metadata": {},
     "outputs": [],
     "prompt_number": 4
    },
    {
     "cell_type": "code",
     "collapsed": false,
     "input": [
      "ds = ClassificationDataSet(len(data.columns)-1,1,nb_classes=len(data['edible'].groupby(data['edible']).groups.keys()))"
     ],
     "language": "python",
     "metadata": {},
     "outputs": [],
     "prompt_number": 5
    },
    {
     "cell_type": "code",
     "collapsed": false,
     "input": [
      "dt = ClassificationDataSet(len(letter.columns)-1,1,nb_classes=\n",
      "                           len(letter['capital_letter'].groupby(letter['capital_letter']).groups.keys()))"
     ],
     "language": "python",
     "metadata": {},
     "outputs": [],
     "prompt_number": 6
    },
    {
     "cell_type": "code",
     "collapsed": false,
     "input": [
      "values = data.values\n",
      "values2= letter.values\n"
     ],
     "language": "python",
     "metadata": {},
     "outputs": [],
     "prompt_number": 7
    },
    {
     "cell_type": "code",
     "collapsed": false,
     "input": [
      "for n in range(len(data)):\n",
      "    \n",
      "    \n",
      "    ds.addSample(values[n,1:], values[n,0])"
     ],
     "language": "python",
     "metadata": {},
     "outputs": [],
     "prompt_number": 8
    },
    {
     "cell_type": "code",
     "collapsed": false,
     "input": [
      "for n in range(len(letter)):\n",
      "    dt.addSample(values2[n,1:], values2[n,0])"
     ],
     "language": "python",
     "metadata": {},
     "outputs": [],
     "prompt_number": 9
    },
    {
     "cell_type": "code",
     "collapsed": false,
     "input": [
      "from pybrain.supervised.trainers import BackpropTrainer\n",
      "from pybrain.structure import TanhLayer\n",
      "from pybrain.tools.validation import Validator\n",
      "from pybrain.utilities import percentError"
     ],
     "language": "python",
     "metadata": {},
     "outputs": [],
     "prompt_number": 278
    },
    {
     "cell_type": "code",
     "collapsed": false,
     "input": [
      "tstdata2, trndata2 = dt.splitWithProportion( 0.9 )"
     ],
     "language": "python",
     "metadata": {},
     "outputs": [],
     "prompt_number": 279
    },
    {
     "cell_type": "code",
     "collapsed": false,
     "input": [
      "valdata2, trndata2 = tstdata, trndata = dt.splitWithProportion( 0.1 )"
     ],
     "language": "python",
     "metadata": {},
     "outputs": [],
     "prompt_number": 280
    },
    {
     "cell_type": "code",
     "collapsed": false,
     "input": [
      "tstdata, trndata = ds.splitWithProportion( 0.9 )"
     ],
     "language": "python",
     "metadata": {},
     "outputs": [],
     "prompt_number": 281
    },
    {
     "cell_type": "code",
     "collapsed": false,
     "input": [
      "valdata, trndata = tstdata, trndata = ds.splitWithProportion( 0.2 )"
     ],
     "language": "python",
     "metadata": {},
     "outputs": [],
     "prompt_number": 282
    },
    {
     "cell_type": "code",
     "collapsed": false,
     "input": [
      "net = buildNetwork(len(data.columns)-1,5,1)"
     ],
     "language": "python",
     "metadata": {},
     "outputs": [],
     "prompt_number": 283
    },
    {
     "cell_type": "code",
     "collapsed": false,
     "input": [
      "net2 = buildNetwork(len(letter.columns)-1,5,1)"
     ],
     "language": "python",
     "metadata": {},
     "outputs": [],
     "prompt_number": 284
    },
    {
     "cell_type": "code",
     "collapsed": false,
     "input": [
      "trainer = BackpropTrainer(net, trndata)"
     ],
     "language": "python",
     "metadata": {},
     "outputs": [],
     "prompt_number": 285
    },
    {
     "cell_type": "code",
     "collapsed": false,
     "input": [
      "trainer2 = BackpropTrainer(net2, trndata2)"
     ],
     "language": "python",
     "metadata": {},
     "outputs": [],
     "prompt_number": 286
    },
    {
     "cell_type": "code",
     "collapsed": false,
     "input": [
      "train_errors = []\n",
      "val_errors = []\n",
      "squareDif = []"
     ],
     "language": "python",
     "metadata": {},
     "outputs": [],
     "prompt_number": 287
    },
    {
     "cell_type": "code",
     "collapsed": false,
     "input": [
      "for epoch in range(40):\n",
      "    current_error = trainer.train()\n",
      "    \n",
      "    net.sortModules()\n",
      "    train_errors.append(current_error)\n",
      "    valsum = 0.0\n",
      "    for v in range(len(valdata)):\n",
      "        actres = net.activate(valdata['input'][v])\n",
      "        actres = int(round(actres))\n",
      "        if actres != valdata['target'][v]:\n",
      "            valsum += 1.0\n",
      "    val_error = valsum/len(valtest)\n",
      "    val_errors.append(val_error)\n",
      "    squareDif.append(abs((current_error*current_error)- (val_error*val_error)))\n",
      "    "
     ],
     "language": "python",
     "metadata": {},
     "outputs": [],
     "prompt_number": 288
    },
    {
     "cell_type": "code",
     "collapsed": false,
     "input": [
      "minError = min(squareDif)\n",
      "minInd = squareDif.index(minError)"
     ],
     "language": "python",
     "metadata": {},
     "outputs": [],
     "prompt_number": 289
    },
    {
     "cell_type": "code",
     "collapsed": false,
     "input": [
      "print train_errors\n",
      "print\n",
      "print val_errors\n",
      "\n",
      "print\n",
      "print minError\n",
      "print minInd"
     ],
     "language": "python",
     "metadata": {},
     "outputs": [
      {
       "output_type": "stream",
       "stream": "stdout",
       "text": [
        "[0.087680909212099659, 0.04874109666464789, 0.039710941506277943, 0.035225280697118909, 0.031978862201748309, 0.029029775149134969, 0.025974304078167122, 0.021661156190443918, 0.016679077546553192, 0.01256018012840111, 0.0099670757733237893, 0.0082989144331985926, 0.0069920480781838655, 0.0060470846098798943, 0.0052821399295095231, 0.0047063328423710268, 0.0042456486396619687, 0.0038474341797760485, 0.0035313834957197811, 0.0032582221378746039, 0.0030387613829988228, 0.0028344737722490148, 0.0026826300067199814, 0.0025252813446067419, 0.0023952280569683954, 0.00228554043672171, 0.0021789924802887452, 0.0021001604774049123, 0.0020144397597536738, 0.0019477715515394942, 0.0018778743110484581, 0.0018131571615295577, 0.0017599045371442397, 0.0017135594698213001, 0.0016631893954271828, 0.0016144646380444677, 0.0015745743042506226, 0.0015428749750232458, 0.0015100891367743501, 0.0014777932538757178]\n",
        "\n",
        "[0.29064039408866993, 0.21182266009852216, 0.1810344827586207, 0.16748768472906403, 0.11330049261083744, 0.0874384236453202, 0.06773399014778325, 0.07142857142857142, 0.050492610837438424, 0.04187192118226601, 0.03078817733990148, 0.023399014778325122, 0.022167487684729065, 0.019704433497536946, 0.01600985221674877, 0.012315270935960592, 0.009852216748768473, 0.008620689655172414, 0.0049261083743842365, 0.006157635467980296, 0.003694581280788177, 0.003694581280788177, 0.003694581280788177, 0.003694581280788177, 0.003694581280788177, 0.003694581280788177, 0.003694581280788177, 0.003694581280788177, 0.003694581280788177, 0.003694581280788177, 0.003694581280788177, 0.003694581280788177, 0.003694581280788177, 0.003694581280788177, 0.003694581280788177, 0.003694581280788177, 0.003694581280788177, 0.003694581280788177, 0.0024630541871921183, 0.003694581280788177]\n",
        "\n",
        "3.78626672804e-06\n",
        "38\n"
       ]
      }
     ],
     "prompt_number": 290
    },
    {
     "cell_type": "code",
     "collapsed": false,
     "input": [
      "###############################################################################\n",
      "# Plot result\n",
      "import matplotlib.pyplot as plt\n",
      "from itertools import cycle\n",
      "\n",
      "# evenly sampled time at 200ms intervals\n",
      "t = range(40)\n",
      "\n",
      "# red dashes, blue squares\n",
      "plt.plot( t,train_errors, 'r--',  t,val_errors, 'bs')\n",
      "plt.show()"
     ],
     "language": "python",
     "metadata": {},
     "outputs": [],
     "prompt_number": 291
    },
    {
     "cell_type": "code",
     "collapsed": false,
     "input": [
      "net39 = buildNetwork(len(data.columns)-1,5,1)\n",
      "net45 = buildNetwork(len(data.columns)-1,5,1)\n",
      "trainer39 = BackpropTrainer(net39, trndata)\n",
      "trainer45 = BackpropTrainer(net45, trndata)\n",
      "error39 = trainer39.trainEpochs(39)\n",
      "error45 = trainer45.trainEpochs(45)\n",
      "net39.sortModules()\n",
      "net45.sortModules()\n",
      "sum39 = 0.0\n",
      "sum45 = 0.0\n",
      "for v in range(len(tstdata)):\n",
      "    actres39 = net39.activate(tstdata['input'][v])\n",
      "    actres45 = net45.activate(tstdata['input'][v])\n",
      "    actres39 = int(round(actres39))\n",
      "    actres45 = int(round(actres45))\n",
      "    if actres39 != tstdata['target'][v]:\n",
      "        sum39 += 1.0\n",
      "    if actres45 != tstdata['target'][v]:\n",
      "        sum45 += 1.0\n",
      "tst_error39 = sum39/len(tstdata)\n",
      "tst_error45 = sum45/len(tstdata)"
     ],
     "language": "python",
     "metadata": {},
     "outputs": [],
     "prompt_number": 298
    },
    {
     "cell_type": "code",
     "collapsed": false,
     "input": [
      "tst_error39 = sum39/len(tstdata)\n",
      "tst_error45 = sum45/len(tstdata)"
     ],
     "language": "python",
     "metadata": {},
     "outputs": [],
     "prompt_number": 299
    },
    {
     "cell_type": "code",
     "collapsed": false,
     "input": [
      "print tst_error39\n",
      "print tst_error45"
     ],
     "language": "python",
     "metadata": {},
     "outputs": [
      {
       "output_type": "stream",
       "stream": "stdout",
       "text": [
        "0.00985221674877\n",
        "0.000615763546798\n"
       ]
      }
     ],
     "prompt_number": 300
    },
    {
     "cell_type": "code",
     "collapsed": false,
     "input": [],
     "language": "python",
     "metadata": {},
     "outputs": []
    }
   ],
   "metadata": {}
  }
 ]
}