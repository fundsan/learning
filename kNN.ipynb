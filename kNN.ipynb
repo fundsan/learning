{
 "metadata": {
  "name": ""
 },
 "nbformat": 3,
 "nbformat_minor": 0,
 "worksheets": [
  {
   "cells": [
    {
     "cell_type": "code",
     "collapsed": false,
     "input": [
      "from sklearn.ensemble import AdaBoostClassifier\n",
      "from sklearn.externals.six.moves import zip\n",
      "\n",
      "import matplotlib.pyplot as plt\n",
      "\n",
      "from sklearn.datasets import make_gaussian_quantiles\n",
      "from sklearn import svm\n",
      "from sklearn.metrics import accuracy_score\n",
      "from sklearn.tree import DecisionTreeClassifier\n",
      "import numpy as np\n",
      "import pandas as pd\n",
      "import sklearn as sk\n",
      "from sklearn import preprocessing\n",
      "\n",
      "coveragedata = pd.read_csv('foresttrain.csv', header= 0) \n",
      "coveragedata.drop('Id', axis = 1)\n",
      "connectdata = pd.read_csv('connect-4.csv', header= None) \n",
      "\n",
      "def splitColumns(dataset):\n",
      "    columns = []\n",
      "    binar = []\n",
      "    for key in dataset.columns:\n",
      "    \n",
      "        if len(dataset[key].groupby(dataset[key]).groups.keys()) >2:\n",
      "            columns.append(key)\n",
      "            \n",
      "        else:\n",
      "            binar.append(key)\n",
      "    return columns, binar\n",
      "connectCol, _ = splitColumns(connectdata)\n",
      "connectCol.remove(len(connectdata.columns)-1)\n",
      "from sklearn.feature_extraction import DictVectorizer\n",
      "\n",
      "def hot_dataframe(data, cols, replace=False):\n",
      "    \"\"\" \n",
      "    Modified from https://gist.github.com/kljensen/5452382\n",
      "    \"\"\"\n",
      "    vec = DictVectorizer()\n",
      "    #mkdict = lambda row: dict((col, row[col]) for col in cols)\n",
      "    collist = [column for column in cols.columns]\n",
      "    vecData = pd.DataFrame(vec.fit_transform(cols.to_dict(outtype='records')).toarray())\n",
      "    vecData.columns = vec.get_feature_names()\n",
      "    vecData.index = data.index\n",
      "    \n",
      "    if replace is True:\n",
      "        \n",
      "        data = data.drop(collist, axis=1)\n",
      "        data = data.join(vecData)\n",
      "    \n",
      "    return data, vecData\n",
      "\n",
      "connectdata, _ = hot_dataframe(connectdata,connectdata[connectCol],replace=True)\n",
      "\n",
      "\n",
      "\n",
      "def labelEncode(data, col, uni = False):\n",
      "    if uni == True:\n",
      "        if isinstance(col, pd.DataFrame):\n",
      "            collist = [column for column in col.columns]\n",
      "        else:\n",
      "            collist = [col.name]\n",
      "    else:\n",
      "        collist = col\n",
      "    le = preprocessing.LabelEncoder()\n",
      "    for column in collist:\n",
      "        data[column] = le.fit_transform(data[column])\n",
      "    return data\n",
      "connectdata = labelEncode( connectdata, connectdata[42],True)\n"
     ],
     "language": "python",
     "metadata": {},
     "outputs": [],
     "prompt_number": 13
    },
    {
     "cell_type": "code",
     "collapsed": false,
     "input": [
      "def get_important_features(max_importance, columns, importances):\n",
      "    sorted_importances = list(np.sort(importances))\n",
      "    important_features = []\n",
      "    total = 0.0\n",
      "    while total <= max_importance and total < 1. and sorted_importances is not None:\n",
      "        current = sorted_importances.pop()\n",
      "        ind = importances.index(current)\n",
      "        \n",
      "        if total + current > max_importance:\n",
      "            return important_features\n",
      "        else:\n",
      "            important_features.append(columns[ind])\n",
      "            total += current\n",
      "    return important_features"
     ],
     "language": "python",
     "metadata": {},
     "outputs": [],
     "prompt_number": 14
    },
    {
     "cell_type": "code",
     "collapsed": false,
     "input": [
      "\n",
      "connect_train, connect_test = train_test_split(connectdata,test_size = .5, random_state= 21)\n",
      "\n",
      "\n",
      "\n",
      "decConnect = DecisionTreeClassifier()\n",
      "decConnect.fit(connect_train[:,1:], connect_train[:,0])\n",
      "gini_val = list(decConnect.feature_importances_)\n",
      "features = connectdata.columns \n",
      "imp = get_important_features(.3, features, gini_val)\n",
      "imp.insert(0,42)\n",
      "connectdata = connectdata[imp]"
     ],
     "language": "python",
     "metadata": {},
     "outputs": [],
     "prompt_number": 15
    },
    {
     "cell_type": "code",
     "collapsed": false,
     "input": [
      "coverage_train, coverage_test = train_test_split(coveragedata,test_size = .5, random_state= 21)\n",
      "\n",
      "\n",
      "\n",
      "decCoverage = DecisionTreeClassifier()\n",
      "decCoverage.fit(coverage_train[:,:coverage_train.shape[1]-1], coverage_train[:,coverage_train.shape[1]-1])\n",
      "gini_val = list(decCoverage.feature_importances_)\n",
      "features = coveragedata.columns \n",
      "imp = get_important_features(.93, features, gini_val)\n",
      "imp.insert(0,u'Cover_Type')\n",
      "coveragedata=coveragedata[imp]"
     ],
     "language": "python",
     "metadata": {},
     "outputs": [],
     "prompt_number": 16
    },
    {
     "cell_type": "code",
     "collapsed": false,
     "input": [
      "from sklearn.cross_validation import train_test_split\n",
      "import IPython.utils.timing as itime\n",
      "\n",
      "import random\n",
      "connect_train, connect_test = train_test_split(connectdata,test_size = .5, random_state = 21)\n",
      "coverage_train, coverage_test = train_test_split(coveragedata,test_size = .5, random_state = 21)"
     ],
     "language": "python",
     "metadata": {},
     "outputs": [],
     "prompt_number": 17
    },
    {
     "cell_type": "code",
     "collapsed": false,
     "input": [
      "clock = itime.clocks()\n",
      "connect_train, connect_test = train_test_split(connectdata,test_size = .5, random_state = 21)\n",
      "from sklearn.neighbors import KNeighborsClassifier\n",
      "connect_test_errors3 = []\n",
      "connect_train_errors3 = []\n",
      "connect_Ns = []\n",
      "for i in range(10):\n",
      "    print i\n",
      "    connect_Ns.append(len(connect_train))\n",
      "    connect = KNeighborsClassifier(3, algorithm = 'ball_tree')\n",
      "    connect.fit(connect_train[:,1:], connect_train[:,0]) \n",
      "    connect_train_errors3.append(1. - accuracy_score(connect_train[:,0], connect.predict(connect_train[:,1:])))\n",
      "    connect_test_errors3.append(1. - accuracy_score(connect_test[:,0], connect.predict(connect_test[:,1:])))\n",
      "    connect_train, _ = train_test_split(connect_train,test_size = .2, random_state = 21)\n",
      "clock = itime.clocks() - clock\n",
      "print clock"
     ],
     "language": "python",
     "metadata": {},
     "outputs": [
      {
       "output_type": "stream",
       "stream": "stdout",
       "text": [
        "0\n",
        "1"
       ]
      },
      {
       "output_type": "stream",
       "stream": "stdout",
       "text": [
        "\n",
        "2"
       ]
      },
      {
       "output_type": "stream",
       "stream": "stdout",
       "text": [
        "\n",
        "3"
       ]
      },
      {
       "output_type": "stream",
       "stream": "stdout",
       "text": [
        "\n",
        "4"
       ]
      },
      {
       "output_type": "stream",
       "stream": "stdout",
       "text": [
        "\n",
        "5"
       ]
      },
      {
       "output_type": "stream",
       "stream": "stdout",
       "text": [
        "\n",
        "6"
       ]
      },
      {
       "output_type": "stream",
       "stream": "stdout",
       "text": [
        "\n",
        "7"
       ]
      },
      {
       "output_type": "stream",
       "stream": "stdout",
       "text": [
        "\n",
        "8"
       ]
      },
      {
       "output_type": "stream",
       "stream": "stdout",
       "text": [
        "\n",
        "9"
       ]
      },
      {
       "output_type": "stream",
       "stream": "stdout",
       "text": [
        "\n",
        "0.215174"
       ]
      },
      {
       "output_type": "stream",
       "stream": "stdout",
       "text": [
        "\n"
       ]
      }
     ],
     "prompt_number": 51
    },
    {
     "cell_type": "code",
     "collapsed": false,
     "input": [
      "clock = itime.clocks()\n",
      "connect_train, connect_test = train_test_split(connectdata,test_size = .5, random_state = 21)\n",
      "\n",
      "connect_test_errors5 = []\n",
      "connect_train_errors5 = []\n",
      "connect_Ns = []\n",
      "for i in range(10):\n",
      "    print i\n",
      "    connect_Ns.append(len(connect_train))\n",
      "    connect = KNeighborsClassifier(5, algorithm = 'ball_tree')\n",
      "    connect.fit(connect_train[:,1:], connect_train[:,0]) \n",
      "    connect_train_errors5.append(1. - accuracy_score(connect_train[:,0], connect.predict(connect_train[:,1:])))\n",
      "    connect_test_errors5.append(1. - accuracy_score(connect_test[:,0], connect.predict(connect_test[:,1:])))\n",
      "    connect_train, _ = train_test_split(connect_train,test_size = .2, random_state = 21)\n",
      "clock = itime.clocks() - clock\n",
      "print clock"
     ],
     "language": "python",
     "metadata": {},
     "outputs": [
      {
       "output_type": "stream",
       "stream": "stdout",
       "text": [
        "0\n",
        "1"
       ]
      },
      {
       "output_type": "stream",
       "stream": "stdout",
       "text": [
        "\n",
        "2"
       ]
      },
      {
       "output_type": "stream",
       "stream": "stdout",
       "text": [
        "\n",
        "3"
       ]
      },
      {
       "output_type": "stream",
       "stream": "stdout",
       "text": [
        "\n",
        "4"
       ]
      },
      {
       "output_type": "stream",
       "stream": "stdout",
       "text": [
        "\n",
        "5"
       ]
      },
      {
       "output_type": "stream",
       "stream": "stdout",
       "text": [
        "\n",
        "6"
       ]
      },
      {
       "output_type": "stream",
       "stream": "stdout",
       "text": [
        "\n",
        "7"
       ]
      },
      {
       "output_type": "stream",
       "stream": "stdout",
       "text": [
        "\n",
        "8"
       ]
      },
      {
       "output_type": "stream",
       "stream": "stdout",
       "text": [
        "\n",
        "9"
       ]
      },
      {
       "output_type": "stream",
       "stream": "stdout",
       "text": [
        "\n",
        "0.283099"
       ]
      },
      {
       "output_type": "stream",
       "stream": "stdout",
       "text": [
        "\n"
       ]
      }
     ],
     "prompt_number": 52
    },
    {
     "cell_type": "code",
     "collapsed": false,
     "input": [
      "plt.figure(1)\n",
      "\n",
      "plt.plot(connect_Ns,connect_test_errors3 , 'k', c='green', label='Testing Error at k = 3')\n",
      "plt.plot(connect_Ns,connect_train_errors3 , 'k', c='purple', label='Training Error at k = 3')\n",
      "plt.plot(connect_Ns,connect_test_errors5 , 'k', c='blue', label='Testing Error at k = 5')\n",
      "plt.plot(connect_Ns,connect_train_errors5 , 'k', c='red', label='Training error at k = 5')\n",
      "plt.legend(bbox_to_anchor=(.65, .3), loc=2, borderaxespad=0.)\n",
      "plt.plot(connect_Ns,connect_test_errors3 , 'bo',c='green')\n",
      "plt.plot(connect_Ns,connect_train_errors3, 'bo', c='purple')\n",
      "plt.plot(connect_Ns,connect_test_errors5 , 'bo',c='blue')\n",
      "plt.plot(connect_Ns,connect_train_errors5, 'bo', c='red')\n",
      "plt.ylabel('Standard Error')\n",
      "plt.xlabel('Number of Instances For Training Set')\n",
      "plt.title('Hypothesis Errors for Connect 4 Data for Knn')\n",
      "plt.show()"
     ],
     "language": "python",
     "metadata": {},
     "outputs": [],
     "prompt_number": 59
    },
    {
     "cell_type": "code",
     "collapsed": false,
     "input": [
      "clock = itime.clocks()\n",
      "coverage_test_errors5 = []\n",
      "coverage_train_errors5 = []\n",
      "coverage_Ns = []\n",
      "coverage_train, coverage_test = train_test_split(coveragedata,test_size = .5, random_state = 21)\n",
      "\n",
      "for i in range(10):\n",
      "    print i \n",
      "    coverage_Ns.append(len(coverage_train))\n",
      "    coverage = KNeighborsClassifier(5, algorithm = 'ball_tree')\n",
      "    coverage.fit(coverage_train[:,1:], coverage_train[:,0]) \n",
      "    coverage_train_errors5.append(1. - accuracy_score(coverage_train[:,0], coverage.predict(coverage_train[:,1:])))\n",
      "    coverage_test_errors5.append(1. - accuracy_score(coverage_test[:,0],coverage.predict(coverage_test[:,1:])))\n",
      "    coverage_train, _ = train_test_split(coverage_train,test_size = .2, random_state = 21)\n",
      "\n",
      "print itime.clocks() - clock  "
     ],
     "language": "python",
     "metadata": {},
     "outputs": [
      {
       "output_type": "stream",
       "stream": "stdout",
       "text": [
        "0\n",
        "1"
       ]
      },
      {
       "output_type": "stream",
       "stream": "stdout",
       "text": [
        "\n",
        "2"
       ]
      },
      {
       "output_type": "stream",
       "stream": "stdout",
       "text": [
        "\n",
        "3"
       ]
      },
      {
       "output_type": "stream",
       "stream": "stdout",
       "text": [
        "\n",
        "4"
       ]
      },
      {
       "output_type": "stream",
       "stream": "stdout",
       "text": [
        "\n",
        "5"
       ]
      },
      {
       "output_type": "stream",
       "stream": "stdout",
       "text": [
        "\n",
        "6"
       ]
      },
      {
       "output_type": "stream",
       "stream": "stdout",
       "text": [
        "\n",
        "7"
       ]
      },
      {
       "output_type": "stream",
       "stream": "stdout",
       "text": [
        "\n",
        "8"
       ]
      },
      {
       "output_type": "stream",
       "stream": "stdout",
       "text": [
        "\n",
        "9"
       ]
      },
      {
       "output_type": "stream",
       "stream": "stdout",
       "text": [
        "\n",
        "0.051906"
       ]
      },
      {
       "output_type": "stream",
       "stream": "stdout",
       "text": [
        "\n"
       ]
      }
     ],
     "prompt_number": 38
    },
    {
     "cell_type": "code",
     "collapsed": false,
     "input": [
      "clock = itime.clocks()\n",
      "coverage_test_errors10 = []\n",
      "coverage_train_errors10 = []\n",
      "coverage_Ns = []\n",
      "coverage_train, coverage_test = train_test_split(coveragedata,test_size = .5, random_state = 21)\n",
      "\n",
      "for i in range(10):\n",
      "    \n",
      "    print i \n",
      "    coverage_Ns.append(len(coverage_train))\n",
      "    \n",
      "    coverage = KNeighborsClassifier(3, algorithm = 'ball_tree')\n",
      "    coverage.fit(coverage_train[:,1:], coverage_train[:,0]) \n",
      "    coverage_train_errors10.append(1. - accuracy_score(coverage_train[:,0], coverage.predict(coverage_train[:,1:])))\n",
      "    coverage_test_errors10.append(1. - accuracy_score(coverage_test[:,0],coverage.predict(coverage_test[:,1:])))\n",
      "    coverage_train, _ = train_test_split(coverage_train,test_size = .2, random_state = 21)\n",
      "\n",
      "print itime.clocks() - clock  "
     ],
     "language": "python",
     "metadata": {},
     "outputs": [
      {
       "output_type": "stream",
       "stream": "stdout",
       "text": [
        "0\n",
        "1"
       ]
      },
      {
       "output_type": "stream",
       "stream": "stdout",
       "text": [
        "\n",
        "2"
       ]
      },
      {
       "output_type": "stream",
       "stream": "stdout",
       "text": [
        "\n",
        "3"
       ]
      },
      {
       "output_type": "stream",
       "stream": "stdout",
       "text": [
        "\n",
        "4"
       ]
      },
      {
       "output_type": "stream",
       "stream": "stdout",
       "text": [
        "\n",
        "5"
       ]
      },
      {
       "output_type": "stream",
       "stream": "stdout",
       "text": [
        "\n",
        "6"
       ]
      },
      {
       "output_type": "stream",
       "stream": "stdout",
       "text": [
        "\n",
        "7"
       ]
      },
      {
       "output_type": "stream",
       "stream": "stdout",
       "text": [
        "\n",
        "8"
       ]
      },
      {
       "output_type": "stream",
       "stream": "stdout",
       "text": [
        "\n",
        "9"
       ]
      },
      {
       "output_type": "stream",
       "stream": "stdout",
       "text": [
        "\n",
        "0.0"
       ]
      },
      {
       "output_type": "stream",
       "stream": "stdout",
       "text": [
        "\n"
       ]
      }
     ],
     "prompt_number": 44
    },
    {
     "cell_type": "code",
     "collapsed": false,
     "input": [
      "coverage_Ns"
     ],
     "language": "python",
     "metadata": {},
     "outputs": [
      {
       "metadata": {},
       "output_type": "pyout",
       "prompt_number": 40,
       "text": [
        "[7560, 6048, 4838, 3870, 3096, 2476, 1980, 1584, 1267, 1013]"
       ]
      }
     ],
     "prompt_number": 40
    },
    {
     "cell_type": "code",
     "collapsed": false,
     "input": [
      "plt.figure(2)\n",
      "\n",
      "plt.plot(coverage_Ns,coverage_test_errors5 , 'k', c='blue', label='Testing Error at k = 5')\n",
      "plt.plot(coverage_Ns,coverage_train_errors5 , 'k', c='red', label='Training Error at k = 5')\n",
      "plt.plot(coverage_Ns,coverage_test_errors10 , 'k', c='green', label='Testing Error at k = 3')\n",
      "plt.plot(coverage_Ns,coverage_train_errors10 , 'k', c='purple', label='Training error at k = 3')\n",
      "plt.legend(bbox_to_anchor=(.1, .3), loc=2, borderaxespad=0.)\n",
      "plt.plot(coverage_Ns,coverage_test_errors5 , 'bo',c='blue')\n",
      "plt.plot(coverage_Ns,coverage_train_errors5, 'bo', c='red')\n",
      "plt.plot(coverage_Ns,coverage_test_errors10 , 'bo',c='green')\n",
      "plt.plot(coverage_Ns,coverage_train_errors10, 'bo', c='purple')\n",
      "plt.ylabel('Standard Error')\n",
      "plt.xlabel('Number of Instances For Training Set')\n",
      "plt.title('Hypothesis Errors for Forest Coverage Data for Knn')\n",
      "plt.show()"
     ],
     "language": "python",
     "metadata": {},
     "outputs": [],
     "prompt_number": 46
    },
    {
     "cell_type": "code",
     "collapsed": false,
     "input": [],
     "language": "python",
     "metadata": {},
     "outputs": []
    }
   ],
   "metadata": {}
  }
 ]
}