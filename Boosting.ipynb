{
 "metadata": {
  "name": ""
 },
 "nbformat": 3,
 "nbformat_minor": 0,
 "worksheets": [
  {
   "cells": [
    {
     "cell_type": "code",
     "collapsed": false,
     "input": [
      "from sklearn.ensemble import AdaBoostClassifier\n",
      "from sklearn.externals.six.moves import zip\n",
      "\n",
      "import matplotlib.pyplot as plt\n",
      "\n",
      "from sklearn.datasets import make_gaussian_quantiles\n",
      "from sklearn import svm\n",
      "from sklearn.metrics import accuracy_score\n",
      "from sklearn.tree import DecisionTreeClassifier\n",
      "import numpy as np\n",
      "import pandas as pd\n",
      "import sklearn as sk\n",
      "from sklearn import preprocessing\n",
      "\n",
      "coveragedata = pd.read_csv('foresttrain.csv', header= 0) \n",
      "coveragedata.drop('Id', axis = 1)\n",
      "connectdata = pd.read_csv('connect-4.csv', header= None) \n",
      "\n",
      "def splitColumns(dataset):\n",
      "    columns = []\n",
      "    binar = []\n",
      "    for key in dataset.columns:\n",
      "    \n",
      "        if len(dataset[key].groupby(dataset[key]).groups.keys()) >2:\n",
      "            columns.append(key)\n",
      "            \n",
      "        else:\n",
      "            binar.append(key)\n",
      "    return columns, binar\n",
      "connectCol, _ = splitColumns(connectdata)\n",
      "connectCol.remove(len(connectdata.columns)-1)\n",
      "from sklearn.feature_extraction import DictVectorizer\n",
      "\n",
      "def hot_dataframe(data, cols, replace=False):\n",
      "    \"\"\" \n",
      "    Modified from https://gist.github.com/kljensen/5452382\n",
      "    \"\"\"\n",
      "    vec = DictVectorizer()\n",
      "    #mkdict = lambda row: dict((col, row[col]) for col in cols)\n",
      "    collist = [column for column in cols.columns]\n",
      "    vecData = pd.DataFrame(vec.fit_transform(cols.to_dict(outtype='records')).toarray())\n",
      "    vecData.columns = vec.get_feature_names()\n",
      "    vecData.index = data.index\n",
      "    \n",
      "    if replace is True:\n",
      "        \n",
      "        data = data.drop(collist, axis=1)\n",
      "        data = data.join(vecData)\n",
      "    \n",
      "    return data, vecData\n",
      "\n",
      "connectdata, _ = hot_dataframe(connectdata,connectdata[connectCol],replace=True)\n",
      "\n",
      "\n",
      "\n",
      "def labelEncode(data, col, uni = False):\n",
      "    if uni == True:\n",
      "        if isinstance(col, pd.DataFrame):\n",
      "            collist = [column for column in col.columns]\n",
      "        else:\n",
      "            collist = [col.name]\n",
      "    else:\n",
      "        collist = col\n",
      "    le = preprocessing.LabelEncoder()\n",
      "    for column in collist:\n",
      "        data[column] = le.fit_transform(data[column])\n",
      "    return data\n",
      "connectdata = labelEncode( connectdata, connectdata[42],True)\n",
      "\n"
     ],
     "language": "python",
     "metadata": {},
     "outputs": [],
     "prompt_number": 4
    },
    {
     "cell_type": "code",
     "collapsed": false,
     "input": [
      "from sklearn.cross_validation import train_test_split\n",
      "import random\n",
      "import IPython.utils.timing as itime\n",
      "coverage_train, coverage_test = train_test_split(coveragedata,test_size = .5, random_state = 21)"
     ],
     "language": "python",
     "metadata": {},
     "outputs": [],
     "prompt_number": 39
    },
    {
     "cell_type": "code",
     "collapsed": false,
     "input": [
      "connect_trees = []\n",
      "connect_Ms = []\n",
      "connect_tests = []\n",
      "connect_trains = []\n",
      "connect_train, connect_test = train_test_split(connectdata,test_size = .5, random_state = 21)\n",
      "for time in range(10):\n",
      "    print time\n",
      "    connect_Ms.append(len(connect_train))\n",
      "    bdt_connect = AdaBoostClassifier(\n",
      "        DecisionTreeClassifier(),\n",
      "        n_estimators=600,\n",
      "        learning_rate=.1,\n",
      "        algorithm=\"SAMME\")\n",
      "    \n",
      "\n",
      "    \n",
      "    bdt_connect.fit(connect_train[:,1:], connect_train[:,0])\n",
      "\n",
      "    connect_trees.append(len(bdt_connect))\n",
      "    connect_tests.append(1.- accuracy_score(connect_test[:,0],bdt_connect.predict(connect_test[:,1:])))\n",
      "    connect_trains.append(1.- accuracy_score(connect_train[:,0],bdt_connect.predict(connect_train[:,1:])))\n",
      "    connect_train, connect_val = train_test_split(connect_train,test_size = .2, random_state = 21)\n",
      "\n",
      "    \n",
      "itime.clocks()"
     ],
     "language": "python",
     "metadata": {},
     "outputs": [
      {
       "output_type": "stream",
       "stream": "stdout",
       "text": [
        "0\n",
        "1"
       ]
      },
      {
       "output_type": "stream",
       "stream": "stdout",
       "text": [
        "\n",
        "2"
       ]
      },
      {
       "output_type": "stream",
       "stream": "stdout",
       "text": [
        "\n",
        "3"
       ]
      },
      {
       "output_type": "stream",
       "stream": "stdout",
       "text": [
        "\n",
        "4"
       ]
      },
      {
       "output_type": "stream",
       "stream": "stdout",
       "text": [
        "\n",
        "5"
       ]
      },
      {
       "output_type": "stream",
       "stream": "stdout",
       "text": [
        "\n",
        "6"
       ]
      },
      {
       "output_type": "stream",
       "stream": "stdout",
       "text": [
        "\n",
        "7"
       ]
      },
      {
       "output_type": "stream",
       "stream": "stdout",
       "text": [
        "\n",
        "8"
       ]
      },
      {
       "output_type": "stream",
       "stream": "stdout",
       "text": [
        "\n",
        "9"
       ]
      },
      {
       "output_type": "stream",
       "stream": "stdout",
       "text": [
        "\n"
       ]
      },
      {
       "metadata": {},
       "output_type": "pyout",
       "prompt_number": 135,
       "text": [
        "17.754805"
       ]
      }
     ],
     "prompt_number": 135
    },
    {
     "cell_type": "code",
     "collapsed": false,
     "input": [
      "best_connect = []\n",
      "for it in range(len(connect_all)):\n",
      "    best_connect.append(connect_all[it][-1])"
     ],
     "language": "python",
     "metadata": {},
     "outputs": []
    },
    {
     "cell_type": "code",
     "collapsed": false,
     "input": [
      "print (len(bdt_connect))"
     ],
     "language": "python",
     "metadata": {},
     "outputs": [
      {
       "output_type": "stream",
       "stream": "stdout",
       "text": [
        "1\n"
       ]
      }
     ],
     "prompt_number": 31
    },
    {
     "cell_type": "code",
     "collapsed": false,
     "input": [
      "\n",
      "connect_prune_all = []\n",
      "connect_prune_trees = []\n",
      "connect_prune_tests = []\n",
      "connect_prune_trains = []\n",
      "connect_train, connect_test = train_test_split(connectdata,test_size = .5, random_state = 21)\n",
      "for time in range(10):\n",
      "    print time\n",
      "\n",
      "    bdt_connect_prune = AdaBoostClassifier(\n",
      "        DecisionTreeClassifier(max_depth= 30),\n",
      "        n_estimators=200,\n",
      "        learning_rate= 1.5,\n",
      "        algorithm=\"SAMME\")\n",
      "    \n",
      "    bdt_connect_prune.fit(connect_train[:,1:], connect_train[:,0])\n",
      "\n",
      "\n",
      "    connect_prune_trees.append(len(bdt_connect_prune))\n",
      "    connect_prune_tests.append(1.- accuracy_score(connect_test[:,0],bdt_connect_prune.predict(connect_test[:,1:])))\n",
      "    connect_prune_trains.append(1.- accuracy_score(connect_train[:,0],bdt_connect.predict(connect_train[:,1:])))\n",
      "    connect_train, connect_val = train_test_split(connect_train,test_size = .2, random_state = 21)\n",
      "\n",
      "print itime.clocks()"
     ],
     "language": "python",
     "metadata": {},
     "outputs": [
      {
       "output_type": "stream",
       "stream": "stdout",
       "text": [
        "0\n",
        "1"
       ]
      },
      {
       "output_type": "stream",
       "stream": "stdout",
       "text": [
        "\n",
        "2"
       ]
      },
      {
       "output_type": "stream",
       "stream": "stdout",
       "text": [
        "\n",
        "3"
       ]
      },
      {
       "output_type": "stream",
       "stream": "stdout",
       "text": [
        "\n",
        "4"
       ]
      },
      {
       "output_type": "stream",
       "stream": "stdout",
       "text": [
        "\n",
        "5"
       ]
      },
      {
       "output_type": "stream",
       "stream": "stdout",
       "text": [
        "\n",
        "6"
       ]
      },
      {
       "output_type": "stream",
       "stream": "stdout",
       "text": [
        "\n",
        "7"
       ]
      },
      {
       "output_type": "stream",
       "stream": "stdout",
       "text": [
        "\n",
        "8"
       ]
      },
      {
       "output_type": "stream",
       "stream": "stdout",
       "text": [
        "\n",
        "9"
       ]
      },
      {
       "output_type": "stream",
       "stream": "stdout",
       "text": [
        "\n",
        "17.599004"
       ]
      },
      {
       "output_type": "stream",
       "stream": "stdout",
       "text": [
        "\n"
       ]
      }
     ],
     "prompt_number": 134
    },
    {
     "cell_type": "code",
     "collapsed": false,
     "input": [],
     "language": "python",
     "metadata": {},
     "outputs": []
    },
    {
     "cell_type": "code",
     "collapsed": false,
     "input": [],
     "language": "python",
     "metadata": {},
     "outputs": []
    },
    {
     "cell_type": "code",
     "collapsed": false,
     "input": [
      "clock = itime.clocks()\n",
      "coverage_Ms = []\n",
      "coverage_trees = []\n",
      "coverage_tests = []\n",
      "coverage_trains = []\n",
      "coverage_train, coverage_test = train_test_split(coveragedata,test_size = .5, random_state = 21)\n",
      "\n",
      "for time in range(10):\n",
      "    \n",
      "    coverage_Ms.append(len(coverage_train))\n",
      "    bdt_coverage = AdaBoostClassifier(\n",
      "        DecisionTreeClassifier(),\n",
      "        n_estimators=200,\n",
      "        learning_rate=1.5,\n",
      "        algorithm=\"SAMME\")\n",
      "    \n",
      "    bdt_coverage.fit(coverage_train[:,:len(coveragedata.columns)-1], coverage_train[:,len(coveragedata.columns)-1])\n",
      "    coverage_trees.append(len(bdt_coverage))\n",
      "    coverage_val_errors = []\n",
      "    coverage_tests.append(1. - accuracy_score(coverage_test[:,len(coveragedata.columns)-1],\n",
      "                                              bdt_coverage.predict(coverage_test[:,:len(coveragedata.columns)-1]))) \n",
      "        \n",
      "    coverage_trains.append(1. - accuracy_score(coverage_train[:,len(coveragedata.columns)-1],\n",
      "                                              bdt_coverage.predict(coverage_train[:,:len(coveragedata.columns)-1])))\n",
      "    coverage_train, _ = train_test_split(coverage_train,test_size = .2, random_state = 21)\n",
      "    \n",
      "print itime.clocks() - clock"
     ],
     "language": "python",
     "metadata": {},
     "outputs": [
      {
       "output_type": "stream",
       "stream": "stdout",
       "text": [
        "0.04795\n"
       ]
      }
     ],
     "prompt_number": 129
    },
    {
     "cell_type": "code",
     "collapsed": false,
     "input": [
      "coverage_Ms"
     ],
     "language": "python",
     "metadata": {},
     "outputs": [
      {
       "metadata": {},
       "output_type": "pyout",
       "prompt_number": 130,
       "text": [
        "[7560, 6048, 4838, 3870, 3096, 2476, 1980, 1584, 1267, 1013]"
       ]
      }
     ],
     "prompt_number": 130
    },
    {
     "cell_type": "code",
     "collapsed": false,
     "input": [
      "coverage_Ms = []\n",
      "coverage_prune_trees = []\n",
      "coverage_prune_trains = []\n",
      "coverage_prune_tests = []\n",
      "coverage_train, coverage_test = train_test_split(coveragedata,test_size = .5, random_state = 21)\n",
      "for time in range(10):\n",
      "    print time\n",
      "    bdt_coverage_prune = AdaBoostClassifier(\n",
      "        DecisionTreeClassifier(max_depth= 10),\n",
      "        n_estimators=200,\n",
      "        learning_rate=1.5,\n",
      "        algorithm=\"SAMME\")\n",
      "    coverage_Ms.append(len(coverage_train))\n",
      "    bdt_coverage_prune.fit(coverage_train[:,:len(coveragedata.columns)-1], coverage_train[:,len(coveragedata.columns)-1])\n",
      "    coverage_prune_trees.append(len(bdt_coverage_prune))\n",
      "    coverage_prune_trains.append(1. - accuracy_score(coverage_train[:,len(coveragedata.columns)-1],\n",
      "                                              bdt_coverage_prune.predict(coverage_train[:,:len(coveragedata.columns)-1])))\n",
      "    coverage_prune_tests.append(1. - accuracy_score(coverage_test[:,len(coveragedata.columns)-1],\n",
      "                                              bdt_coverage_prune.predict(coverage_test[:,:len(coveragedata.columns)-1])))\n",
      "    \n",
      "    coverage_train, _ = train_test_split(coverage_train,test_size = .2, random_state = 21)\n"
     ],
     "language": "python",
     "metadata": {},
     "outputs": [
      {
       "output_type": "stream",
       "stream": "stdout",
       "text": [
        "0\n",
        "1"
       ]
      },
      {
       "output_type": "stream",
       "stream": "stdout",
       "text": [
        "\n",
        "2"
       ]
      },
      {
       "output_type": "stream",
       "stream": "stdout",
       "text": [
        "\n",
        "3"
       ]
      },
      {
       "output_type": "stream",
       "stream": "stdout",
       "text": [
        "\n",
        "4"
       ]
      },
      {
       "output_type": "stream",
       "stream": "stdout",
       "text": [
        "\n",
        "5"
       ]
      },
      {
       "output_type": "stream",
       "stream": "stdout",
       "text": [
        "\n",
        "6"
       ]
      },
      {
       "output_type": "stream",
       "stream": "stdout",
       "text": [
        "\n",
        "7"
       ]
      },
      {
       "output_type": "stream",
       "stream": "stdout",
       "text": [
        "\n",
        "8"
       ]
      },
      {
       "output_type": "stream",
       "stream": "stdout",
       "text": [
        "\n",
        "9"
       ]
      },
      {
       "output_type": "stream",
       "stream": "stdout",
       "text": [
        "\n"
       ]
      }
     ],
     "prompt_number": 132
    },
    {
     "cell_type": "code",
     "collapsed": false,
     "input": [
      "connect_prune_trees"
     ],
     "language": "python",
     "metadata": {},
     "outputs": [
      {
       "metadata": {},
       "output_type": "pyout",
       "prompt_number": 118,
       "text": [
        "[200, 200, 1, 200, 200, 200, 200, 2, 2, 2]"
       ]
      }
     ],
     "prompt_number": 118
    },
    {
     "cell_type": "code",
     "collapsed": false,
     "input": [
      "plt.figure(1)\n",
      "\n",
      "plt.plot(connect_Ms,connect_tests , 'k', c='blue', label='Testing Error')\n",
      "plt.plot(connect_Ms,connect_trains , 'k', c='red', label='Training Error')\n",
      "plt.plot(connect_Ms,connect_prune_tests , 'k', c='green', label='Pruned Testing Error')\n",
      "plt.plot(connect_Ms,connect_prune_trains , 'k', c='purple', label='Pruned Training Error')\n",
      "plt.legend(bbox_to_anchor=(.5, .3), loc=2, borderaxespad=0.)\n",
      "plt.plot(connect_Ms,connect_tests , 'bo',c='blue')\n",
      "plt.plot(connect_Ms,connect_trains, 'bo', c='red')\n",
      "plt.plot(connect_Ms,connect_prune_tests , 'bo',c='green')\n",
      "plt.plot(connect_Ms,connect_prune_trains, 'bo', c='purple')\n",
      "plt.ylabel('Standard Error')\n",
      "plt.xlabel('Number of Instances For Training Set')\n",
      "plt.title('Hypothesis Errors for Connect 4 Data ')\n",
      "plt.show()"
     ],
     "language": "python",
     "metadata": {},
     "outputs": [],
     "prompt_number": 136
    },
    {
     "cell_type": "code",
     "collapsed": false,
     "input": [
      "plt.figure(2)\n",
      "\n",
      "plt.plot(coverage_Ms,coverage_tests , 'k', c='blue', label='Testing Error')\n",
      "plt.plot(coverage_Ms,coverage_trains , 'k', c='red', label='Training Error')\n",
      "plt.plot(coverage_Ms,coverage_prune_tests , 'k', c='green', label='Pruned Testing Error')\n",
      "plt.plot(coverage_Ms,coverage_prune_trains , 'k', c='purple', label='Pruned Training Error')\n",
      "plt.legend(bbox_to_anchor=(.1, .3), loc=2, borderaxespad=0.)\n",
      "plt.plot(coverage_Ms,coverage_tests , 'bo',c='blue')\n",
      "plt.plot(coverage_Ms,coverage_trains, 'bo', c='red')\n",
      "plt.plot(coverage_Ms,coverage_prune_tests , 'bo',c='green')\n",
      "plt.plot(coverage_Ms,coverage_prune_trains, 'bo', c='purple')\n",
      "plt.ylabel('Standard Error')\n",
      "plt.xlabel('Number of Instances For Training Set')\n",
      "plt.title('Hypothesis Errors for Forest Coverage Data ')\n",
      "plt.show()"
     ],
     "language": "python",
     "metadata": {},
     "outputs": [],
     "prompt_number": 133
    },
    {
     "cell_type": "code",
     "collapsed": false,
     "input": [
      "connect_estimator_errors"
     ],
     "language": "python",
     "metadata": {},
     "outputs": [
      {
       "metadata": {},
       "output_type": "pyout",
       "prompt_number": 87,
       "text": [
        "array([ 0.])"
       ]
      }
     ],
     "prompt_number": 87
    },
    {
     "cell_type": "code",
     "collapsed": false,
     "input": [],
     "language": "python",
     "metadata": {},
     "outputs": [
      {
       "metadata": {},
       "output_type": "pyout",
       "prompt_number": 61,
       "text": [
        "600"
       ]
      }
     ],
     "prompt_number": 61
    },
    {
     "cell_type": "code",
     "collapsed": false,
     "input": [
      "print  len(robot_train)"
     ],
     "language": "python",
     "metadata": {},
     "outputs": [
      {
       "output_type": "stream",
       "stream": "stdout",
       "text": [
        "545\n"
       ]
      }
     ],
     "prompt_number": 71
    },
    {
     "cell_type": "code",
     "collapsed": false,
     "input": [],
     "language": "python",
     "metadata": {},
     "outputs": []
    }
   ],
   "metadata": {}
  }
 ]
}