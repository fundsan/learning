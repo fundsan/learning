{
 "metadata": {
  "name": ""
 },
 "nbformat": 3,
 "nbformat_minor": 0,
 "worksheets": [
  {
   "cells": [
    {
     "cell_type": "code",
     "collapsed": false,
     "input": [
      "\n",
      "from sklearn.externals.six.moves import zip\n",
      "\n",
      "import matplotlib.pyplot as plt\n",
      "\n",
      "from sklearn.datasets import make_gaussian_quantiles\n",
      "from sklearn import svm\n",
      "from sklearn.metrics import accuracy_score\n",
      "from sklearn.tree import DecisionTreeClassifier\n",
      "import numpy as np\n",
      "import pandas as pd\n",
      "import sklearn as sk\n",
      "from sklearn import preprocessing\n",
      "\n",
      "robotdata = pd.read_csv('sensor_readings_24.csv', header= None) \n",
      "\n",
      "connectdata = pd.read_csv('connect-4.csv', header= None) \n",
      "\n",
      "def splitColumns(dataset):\n",
      "    columns = []\n",
      "    binar = []\n",
      "    for key in dataset.columns:\n",
      "    \n",
      "        if len(dataset[key].groupby(dataset[key]).groups.keys()) >2:\n",
      "            columns.append(key)\n",
      "            \n",
      "        else:\n",
      "            binar.append(key)\n",
      "    return columns, binar\n",
      "connectCol, _ = splitColumns(connectdata)\n",
      "connectCol.remove(len(connectdata.columns)-1)\n",
      "from sklearn.feature_extraction import DictVectorizer\n",
      "\n",
      "def hot_dataframe(data, cols, replace=False):\n",
      "    \"\"\" \n",
      "    Modified from https://gist.github.com/kljensen/5452382\n",
      "    \"\"\"\n",
      "    vec = DictVectorizer()\n",
      "    #mkdict = lambda row: dict((col, row[col]) for col in cols)\n",
      "    collist = [column for column in cols.columns]\n",
      "    vecData = pd.DataFrame(vec.fit_transform(cols.to_dict(outtype='records')).toarray())\n",
      "    vecData.columns = vec.get_feature_names()\n",
      "    vecData.index = data.index\n",
      "    \n",
      "    if replace is True:\n",
      "        \n",
      "        data = data.drop(collist, axis=1)\n",
      "        data = data.join(vecData)\n",
      "    \n",
      "    return data, vecData\n",
      "\n",
      "connectdata, _ = hot_dataframe(connectdata,connectdata[connectCol],replace=True)\n",
      "\n",
      "\n",
      "\n",
      "def labelEncode(data, col, uni = False):\n",
      "    if uni == True:\n",
      "        if isinstance(col, pd.DataFrame):\n",
      "            collist = [column for column in col.columns]\n",
      "        else:\n",
      "            collist = [col.name]\n",
      "    else:\n",
      "        collist = col\n",
      "    le = preprocessing.LabelEncoder()\n",
      "    for column in collist:\n",
      "        data[column] = le.fit_transform(data[column])\n",
      "    return data\n",
      "connectdata = labelEncode( connectdata, connectdata[42],True)\n",
      "robotdata = labelEncode(robotdata, robotdata[len(robotdata.columns)-1], True)\n",
      "testPercent = [.0001,.001,.01,.05, .1,.3,.4, .5, , .9, .95, .99]\n",
      "tests = len(testPercent)\n",
      "from sklearn.cross_validation import train_test_split\n",
      "import random\n",
      "from sklearn import tree\n",
      "import random\n",
      "import math"
     ],
     "language": "python",
     "metadata": {},
     "outputs": [],
     "prompt_number": 2
    },
    {
     "cell_type": "code",
     "collapsed": false,
     "input": [
      "connectN = []\n",
      "connectTrainError = []\n",
      "connectTestError = []\n",
      "for perc in testPercent:\n",
      "    connect_train, connect_test = train_test_split(connectdata,test_size = perc, random_state= 21)\n",
      "    n = len(connect_train)\n",
      "    connectN.append(n)\n",
      "    \n",
      "    decConnect = tree.DecisionTreeClassifier()\n",
      "    trainerror = (1. - accuracy_score(connect_train[:,0], decConnect.predict(connect_train[:,1:]) ))\n",
      "    connectTrainError.append(trainerror)\n",
      "\n",
      "    decConnect.fit(connect_train[:,1:], connect_train[:,0])\n",
      "    error = (1. - accuracy_score(connect_test[:,0], decConnect.predict(connect_test[:,1:]) ))\n",
      "    connectError.append(error)\n",
      "    \n"
     ],
     "language": "python",
     "metadata": {},
     "outputs": [],
     "prompt_number": 3
    },
    {
     "cell_type": "code",
     "collapsed": false,
     "input": [],
     "language": "python",
     "metadata": {},
     "outputs": [
      {
       "metadata": {},
       "output_type": "pyout",
       "prompt_number": 11,
       "text": [
        "0.0"
       ]
      }
     ],
     "prompt_number": 11
    },
    {
     "cell_type": "code",
     "collapsed": false,
     "input": [
      "plt.figure(1)\n",
      "\n",
      "plt.plot(connectN,connectError , 'bo', connectN,connectError , 'k', c='red', label='Testing Error')\n",
      "\n",
      "plt.ylabel('Test Error')\n",
      "plt.xlabel('Number of Instances')\n",
      "plt.show()"
     ],
     "language": "python",
     "metadata": {},
     "outputs": [],
     "prompt_number": 13
    },
    {
     "cell_type": "code",
     "collapsed": false,
     "input": [
      "training2, testing2 = train_test_split(robotdata,test_size = .5, random_state= 21)\n",
      "decRobot = tree.DecisionTreeClassifier(min_samples_leaf = 500, min_samples_split = 1000, ,max_depth = 10)\n",
      "decRobot.fit(robot_train[:,:len(robotdata.columns)-1], robot_train[:,len(robotdata.columns)-1])\n",
      "robotTrainN= []\n",
      "robotError = []"
     ],
     "language": "python",
     "metadata": {},
     "outputs": [],
     "prompt_number": 230
    },
    {
     "cell_type": "code",
     "collapsed": false,
     "input": [
      "from sklearn.cross_validation import cross_val_score, KFold\n",
      "\n",
      "cross = KFold(400, n_folds=10)\n"
     ],
     "language": "python",
     "metadata": {},
     "outputs": [
      {
       "metadata": {},
       "output_type": "pyout",
       "prompt_number": 18,
       "text": [
        "sklearn.cross_validation.KFold(n=400, n_folds=10)"
       ]
      }
     ],
     "prompt_number": 18
    },
    {
     "cell_type": "code",
     "collapsed": false,
     "input": [
      "for train_index, test_index in cross:\n",
      "    #print(\"TRAIN:\", train_index, \"TEST:\", test_index)\n",
      "    X_train, X_test = training[:,1:][train_index], training[:,1:][test_index]\n",
      "    y_train, y_test = training[:,0][train_index], training[:,0][test_index]"
     ],
     "language": "python",
     "metadata": {},
     "outputs": [],
     "prompt_number": 20
    },
    {
     "cell_type": "code",
     "collapsed": false,
     "input": [],
     "language": "python",
     "metadata": {},
     "outputs": []
    }
   ],
   "metadata": {}
  }
 ]
}