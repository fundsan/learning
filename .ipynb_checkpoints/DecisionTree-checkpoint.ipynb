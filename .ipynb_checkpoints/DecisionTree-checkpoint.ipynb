{
 "metadata": {
  "name": ""
 },
 "nbformat": 3,
 "nbformat_minor": 0,
 "worksheets": [
  {
   "cells": [
    {
     "cell_type": "code",
     "collapsed": false,
     "input": [
      "\n",
      "from sklearn.externals.six.moves import zip\n",
      "\n",
      "import matplotlib.pyplot as plt\n",
      "\n",
      "from sklearn.datasets import make_gaussian_quantiles\n",
      "from sklearn import svm\n",
      "from sklearn.metrics import accuracy_score\n",
      "from sklearn.tree import DecisionTreeClassifier\n",
      "import numpy as np\n",
      "import pandas as pd\n",
      "import sklearn as sk\n",
      "from sklearn import preprocessing\n",
      "\n",
      "letterdata = pd.read_csv('foresttrain.csv', header= 0) \n",
      "letterdata.drop('Id', axis = 1)\n",
      "connectdata = pd.read_csv('connect-4.csv', header= None) \n",
      "\n",
      "def splitColumns(dataset):\n",
      "    columns = []\n",
      "    binar = []\n",
      "    for key in dataset.columns:\n",
      "    \n",
      "        if len(dataset[key].groupby(dataset[key]).groups.keys()) >2:\n",
      "            columns.append(key)\n",
      "            \n",
      "        else:\n",
      "            binar.append(key)\n",
      "    return columns, binar\n",
      "connectCol, _ = splitColumns(connectdata)\n",
      "connectCol.remove(len(connectdata.columns)-1)\n",
      "from sklearn.feature_extraction import DictVectorizer\n",
      "\n",
      "def hot_dataframe(data, cols, replace=False):\n",
      "    \"\"\" \n",
      "    Modified from https://gist.github.com/kljensen/5452382\n",
      "    \"\"\"\n",
      "    vec = DictVectorizer()\n",
      "    #mkdict = lambda row: dict((col, row[col]) for col in cols)\n",
      "    collist = [column for column in cols.columns]\n",
      "    vecData = pd.DataFrame(vec.fit_transform(cols.to_dict(outtype='records')).toarray())\n",
      "    vecData.columns = vec.get_feature_names()\n",
      "    vecData.index = data.index\n",
      "    \n",
      "    if replace is True:\n",
      "        \n",
      "        data = data.drop(collist, axis=1)\n",
      "        data = data.join(vecData)\n",
      "    \n",
      "    return data, vecData\n",
      "\n",
      "connectdata, _ = hot_dataframe(connectdata,connectdata[connectCol],replace=True)\n",
      "\n",
      "\n",
      "\n",
      "def labelEncode(data, col, uni = False):\n",
      "    if uni == True:\n",
      "        if isinstance(col, pd.DataFrame):\n",
      "            collist = [column for column in col.columns]\n",
      "        else:\n",
      "            collist = [col.name]\n",
      "    else:\n",
      "        collist = col\n",
      "    le = preprocessing.LabelEncoder()\n",
      "    for column in collist:\n",
      "        data[column] = le.fit_transform(data[column])\n",
      "    return data\n",
      "connectdata = labelEncode( connectdata, connectdata[42],True)\n",
      "\n",
      "\n",
      "from sklearn.cross_validation import train_test_split\n",
      "import random\n",
      "from sklearn import tree\n",
      "import random\n",
      "import math"
     ],
     "language": "python",
     "metadata": {},
     "outputs": [],
     "prompt_number": 18
    },
    {
     "cell_type": "code",
     "collapsed": false,
     "input": [
      "testPercent = [.0,.1,.1,.1,.1,.1,.1,.1,.1,.1]"
     ],
     "language": "python",
     "metadata": {},
     "outputs": [],
     "prompt_number": 2
    },
    {
     "cell_type": "code",
     "collapsed": false,
     "input": [
      "def productRev(l):\n",
      "    prod = 1.\n",
      "    for v in l:\n",
      "        prod = prod - (v*prod)\n",
      "    prod = 1 - prod\n",
      "    return prod"
     ],
     "language": "python",
     "metadata": {},
     "outputs": [],
     "prompt_number": 3
    },
    {
     "cell_type": "code",
     "collapsed": false,
     "input": [
      "connectTrain_M = []\n",
      "connectTrainError = []\n",
      "connectTestError = []\n",
      "connect_train, connect_test = train_test_split(connectdata,test_size = .5, random_state= 21)\n",
      "\n",
      "for perc in testPercent:\n",
      "    connect_train, _ = train_test_split(connect_train,test_size = perc, random_state= 21)\n",
      "    n = len(connect_train)\n",
      "    connectTrain_M.append(n)\n",
      "    decConnect = tree.DecisionTreeClassifier()\n",
      "    decConnect.fit(connect_train[:,1:], connect_train[:,0])\n",
      "\n",
      "    \n",
      "    trainerror = (1. - accuracy_score(connect_train[:,0], decConnect.predict(connect_train[:,1:]) ))\n",
      "    connectTrainError.append(trainerror)\n",
      "\n",
      "    decConnect.fit(connect_train[:,1:], connect_train[:,0])\n",
      "    error = (1. - accuracy_score(connect_test[:,0], decConnect.predict(connect_test[:,1:]) ))\n",
      "    connectTestError.append(error)\n",
      "    \n",
      "\n"
     ],
     "language": "python",
     "metadata": {},
     "outputs": [],
     "prompt_number": 5
    },
    {
     "cell_type": "code",
     "collapsed": false,
     "input": [],
     "language": "python",
     "metadata": {},
     "outputs": []
    },
    {
     "cell_type": "code",
     "collapsed": false,
     "input": [
      "minTestError = min(connectTestError)\n",
      "print minTestError\n",
      "minTestErrorInd = connectTestError.index(minTestError)\n",
      "print minTestErrorInd\n",
      "connectTrainPrune = []\n",
      "connectTestPrune = []\n",
      "connect_train, connect_test = train_test_split(connectdata,test_size = .5, random_state= 21)\n",
      "\n",
      "print connect_train.shape[0]\n",
      "connectN = len(connectdata.columns) -1\n",
      "Ns = []\n",
      "nrange = np.array(np.arange(0.05, 1.05,.05))\n",
      "\n",
      "for n in nrange:\n",
      "    \n",
      "    \n",
      "    max_N = int(n*connectN)\n",
      "    \n",
      "    \n",
      "    Ns.append(max_N)\n",
      "    decConnect = tree.DecisionTreeClassifier(max_depth=max_N)\n",
      "    decConnect.fit(connect_train[:,1:], connect_train[:,0])\n",
      "\n",
      "    \n",
      "    trainerror = (1. - accuracy_score(connect_train[:,0], decConnect.predict(connect_train[:,1:]) ))\n",
      "    connectTrainPrune.append(trainerror)\n",
      "\n",
      "    decConnect.fit(connect_train[:,1:], connect_train[:,0])\n",
      "    error = (1. - accuracy_score(connect_test[:,0], decConnect.predict(connect_test[:,1:]) ))\n",
      "    connectTestPrune.append(error)\n",
      "    \n"
     ],
     "language": "python",
     "metadata": {},
     "outputs": [
      {
       "output_type": "stream",
       "stream": "stdout",
       "text": [
        "0.25367832085\n",
        "0\n",
        "33778"
       ]
      },
      {
       "output_type": "stream",
       "stream": "stdout",
       "text": [
        "\n"
       ]
      }
     ],
     "prompt_number": 6
    },
    {
     "cell_type": "code",
     "collapsed": false,
     "input": [
      "minTestPruneError = min(connectTestPrune)\n",
      "minTestPruneErrorInd = connectTestError.index(minTestError)\n",
      "connectTrainSplit = []\n",
      "connectTestSplit = []\n",
      "\n",
      "\n",
      "Ms = []\n",
      "trainM = connect_train.shape[0]\n",
      "\n",
      "mrange = np.array(np.arange(0.005, .05,.005))\n",
      "\n",
      "for m in mrange:\n",
      "    \n",
      "    \n",
      "    max_M = int(m*trainM)\n",
      "    \n",
      "    Ms.append(max_M)\n",
      "    decConnect = tree.DecisionTreeClassifier(max_depth=Ns[minTestPruneErrorInd], min_samples_split=max_M)\n",
      "    decConnect.fit(connect_train[:,1:], connect_train[:,0])\n",
      "\n",
      "    \n",
      "    trainerror = (1. - accuracy_score(connect_train[:,0], decConnect.predict(connect_train[:,1:]) ))\n",
      "    connectTrainSplit.append(trainerror)\n",
      "\n",
      "    decConnect.fit(connect_train[:,1:], connect_train[:,0])\n",
      "    error = (1. - accuracy_score(connect_test[:,0], decConnect.predict(connect_test[:,1:]) ))\n",
      "    connectTestSplit.append(error)\n",
      "    "
     ],
     "language": "python",
     "metadata": {},
     "outputs": [],
     "prompt_number": 7
    },
    {
     "cell_type": "code",
     "collapsed": false,
     "input": [
      "\n",
      "connectTrainLeaf = []\n",
      "connectTestLeaf = []\n",
      "\n",
      "\n",
      "leafMs = []\n",
      "trainM = connect_train.shape[0]\n",
      "\n",
      "leafmrange = np.array(np.arange(0.0005, .005,.0005))\n",
      "\n",
      "for m in leafmrange:\n",
      "    \n",
      "    \n",
      "    max_M = int(m*trainM)\n",
      "    \n",
      "    leafMs.append(max_M)\n",
      "    decConnect = tree.DecisionTreeClassifier(max_depth=Ns[minTestPruneErrorInd], min_samples_leaf=max_M)\n",
      "    decConnect.fit(connect_train[:,1:], connect_train[:,0])\n",
      "\n",
      "    \n",
      "    trainerror = (1. - accuracy_score(connect_train[:,0], decConnect.predict(connect_train[:,1:]) ))\n",
      "    connectTrainLeaf.append(trainerror)\n",
      "\n",
      "    decConnect.fit(connect_train[:,1:], connect_train[:,0])\n",
      "    error = (1. - accuracy_score(connect_test[:,0], decConnect.predict(connect_test[:,1:]) ))\n",
      "    connectTestLeaf.append(error)\n",
      "    "
     ],
     "language": "python",
     "metadata": {},
     "outputs": [],
     "prompt_number": 16
    },
    {
     "cell_type": "code",
     "collapsed": false,
     "input": [
      "\n",
      "connectTrainMax = []\n",
      "connectTestMax = []\n",
      "\n",
      "\n",
      "\n",
      "connectN = len(connectdata.columns) -1\n",
      "considerNs = []\n",
      "considernrange = np.array(np.arange(0.05, 1.05,.05))\n",
      "\n",
      "for n in considernrange:\n",
      "    \n",
      "    \n",
      "    max_N = int(n*connectN)\n",
      "    \n",
      "    considerNs.append(max_N)\n",
      "    decConnect = tree.DecisionTreeClassifier(max_depth =Ns[minTestPruneErrorInd],max_features =max_N)\n",
      "    decConnect.fit(connect_train[:,1:], connect_train[:,0])\n",
      "\n",
      "    \n",
      "    trainerror = (1. - accuracy_score(connect_train[:,0], decConnect.predict(connect_train[:,1:]) ))\n",
      "    connectTrainMax.append(trainerror)\n",
      "\n",
      "    decConnect.fit(connect_train[:,1:], connect_train[:,0])\n",
      "    error = (1. - accuracy_score(connect_test[:,0], decConnect.predict(connect_test[:,1:]) ))\n",
      "    connectTestMax.append(error)\n",
      "    "
     ],
     "language": "python",
     "metadata": {},
     "outputs": [],
     "prompt_number": 9
    },
    {
     "cell_type": "code",
     "collapsed": false,
     "input": [
      "\n",
      "connectTrainLeafMax = []\n",
      "connectTestLeafMax = []\n",
      "\n",
      "\n",
      "leafMaxMs = []\n",
      "trainMaxM = connect_train.shape[0]\n",
      "\n",
      "leafmrange = np.array(np.arange(0.0005, .005,.0005))\n",
      "\n",
      "for m in leafmrange:\n",
      "    \n",
      "    \n",
      "    max_M = int(m*trainMaxM)\n",
      "    \n",
      "    leafMaxMs.append(max_M)\n",
      "    decConnect = tree.DecisionTreeClassifier( max_leaf_nodes = max_M)\n",
      "    decConnect.fit(connect_train[:,1:], connect_train[:,0])\n",
      "\n",
      "    \n",
      "    trainerror = (1. - accuracy_score(connect_train[:,0], decConnect.predict(connect_train[:,1:]) ))\n",
      "    connectTrainLeafMax.append(trainerror)\n",
      "\n",
      "    decConnect.fit(connect_train[:,1:], connect_train[:,0])\n",
      "    error = (1. - accuracy_score(connect_test[:,0], decConnect.predict(connect_test[:,1:]) ))\n",
      "    connectTestLeafMax.append(error)"
     ],
     "language": "python",
     "metadata": {},
     "outputs": [],
     "prompt_number": 11
    },
    {
     "cell_type": "code",
     "collapsed": false,
     "input": [
      "plt.figure(1)\n",
      "\n",
      "plt.plot(connectTrain_M,connectTestError , 'k', c='blue', label='Testing Error')\n",
      "plt.plot(connectTrain_M,connectTrainError , 'k', c='red', label='Training Error')\n",
      "plt.legend()\n",
      "plt.plot(connectTrain_M,connectTestError , 'bo',c='blue')\n",
      "plt.plot(connectTrain_M,connectTrainError, 'bo', c='red')\n",
      "plt.ylabel('Error')\n",
      "plt.xlabel('Number of Instances For Training Set')\n",
      "plt.title('Hypothesis Errors for Connect 4 Data (Without Pruning) ')\n",
      "plt.show()"
     ],
     "language": "python",
     "metadata": {},
     "outputs": [],
     "prompt_number": 12
    },
    {
     "cell_type": "code",
     "collapsed": false,
     "input": [
      "plt.figure(2)\n",
      "\n",
      "plt.plot(Ns,connectTestPrune , 'k', c='blue', label='Testing Error')\n",
      "plt.plot(Ns,connectTrainPrune , 'k', c='red', label='Training Error')\n",
      "plt.legend()\n",
      "plt.plot(Ns,connectTestPrune , 'bo',c='blue')\n",
      "plt.plot(Ns,connectTrainPrune, 'bo', c='red')\n",
      "plt.ylabel('Error')\n",
      "plt.xlabel('Maximum TreeDepth')\n",
      "plt.title('Hypothesis Errors for Connect 4 Data (With Pruning) ')\n",
      "plt.show()\n",
      "    "
     ],
     "language": "python",
     "metadata": {},
     "outputs": [],
     "prompt_number": 22
    },
    {
     "cell_type": "code",
     "collapsed": false,
     "input": [
      "plt.figure(4)\n",
      "\n",
      "plt.plot(Ms,connectTestSplit , 'k', c='blue', label='Testing Error')\n",
      "plt.plot(Ms,connectTrainSplit , 'k', c='red', label='Training Error')\n",
      "plt.legend()\n",
      "plt.plot(Ms,connectTestSplit , 'bo',c='blue')\n",
      "plt.plot(Ms,connectTrainSplit, 'bo', c='red')\n",
      "plt.ylabel('Error')\n",
      "plt.xlabel('Minimum Split For a Node')\n",
      "plt.title('Hypothesis Errors for Connect 4 Data (With Pruning on min split for a node) ')\n",
      "plt.show()"
     ],
     "language": "python",
     "metadata": {},
     "outputs": [],
     "prompt_number": 14
    },
    {
     "cell_type": "code",
     "collapsed": false,
     "input": [
      "plt.figure(7)\n",
      "\n",
      "plt.plot(leafMaxMs,connectTestLeafMax , 'k', c='blue', label='Testing Error')\n",
      "plt.plot(leafMaxMs,connectTrainLeafMax , 'k', c='red', label='Training Error')\n",
      "plt.legend()\n",
      "plt.plot(leafMs,connectTestLeafMax , 'bo',c='blue')\n",
      "plt.plot(leafMs,connectTrainLeafMax, 'bo', c='red')\n",
      "plt.ylabel('Error')\n",
      "plt.xlabel('Minimum Split For a Node')\n",
      "plt.title('Connect 4 error (With Pruning on min samples to become a leaf) ')\n",
      "plt.show()"
     ],
     "language": "python",
     "metadata": {},
     "outputs": [],
     "prompt_number": 21
    },
    {
     "cell_type": "code",
     "collapsed": false,
     "input": [
      "plt.figure(6)\n",
      "\n",
      "plt.plot(considerNs,connectTestMax , 'k', c='blue', label='Testing Error')\n",
      "plt.plot(considerNs,connectTrainMax , 'k', c='red', label='Training Error')\n",
      "plt.legend()\n",
      "plt.plot(considerNs,connectTestMax , 'bo',c='blue')\n",
      "plt.plot(considerNs,connectTrainMax, 'bo', c='red')\n",
      "plt.ylabel('Error')\n",
      "plt.xlabel('Maximum TreeDepth')\n",
      "plt.title('Hypothesis Errors for Connect 4 Data (With Pruning) ')\n",
      "plt.show()\n",
      "    "
     ],
     "language": "python",
     "metadata": {},
     "outputs": [],
     "prompt_number": 18
    },
    {
     "cell_type": "code",
     "collapsed": false,
     "input": [
      "letterN = []\n",
      "letterTrainError = []\n",
      "letterTestError = []\n",
      "letter_train, letter_test = train_test_split(letterdata,test_size = .5 ,random_state= 21)\n",
      "XInd = letter_train.shape[1] -1\n",
      "YInd = letter_train.shape[1] -1\n",
      "for perc in testPercent:\n",
      "    letter_train, _ = train_test_split(letter_train,test_size = perc, random_state= 21)\n",
      "    n = len(letter_train)\n",
      "    letterN.append(n)\n",
      "    decLetter = tree.DecisionTreeClassifier()\n",
      "    decLetter.fit(letter_train[:,:XInd] , letter_train[:,YInd])\n",
      "\n",
      "    \n",
      "    trainerror = (1. - accuracy_score(letter_train[:,YInd], \n",
      "                                      decLetter.predict(letter_train[:,:XInd] )))\n",
      "    letterTrainError.append(trainerror)\n",
      "\n",
      "    \n",
      "    error = (1. - accuracy_score(letter_test[:,YInd],\n",
      "                                 decLetter.predict(letter_test[:,:XInd]) ))\n",
      "    letterTestError.append(error)\n",
      "    "
     ],
     "language": "python",
     "metadata": {},
     "outputs": [],
     "prompt_number": 41
    },
    {
     "cell_type": "code",
     "collapsed": false,
     "input": [
      "minTestError = min(letterTestError)\n",
      "print minTestError\n",
      "minTestErrorInd = letterTestError.index(minTestError)\n",
      "print minTestErrorInd\n",
      "letterTrainPrune = []\n",
      "letterTestPrune = []\n",
      "letter_train, letter_test = train_test_split(connectdata,test_size = .5, random_state= 21)\n",
      "\n",
      "\n",
      "letterNForDepth = len(connectdata.columns) -1\n",
      "letterNs = []\n",
      "letternrange = np.array(np.arange(0.05, 1.05,.05))\n",
      "\n",
      "for n in letternrange:\n",
      "    \n",
      "    \n",
      "    max_N = int(n*letterNForDepth)\n",
      "    \n",
      "    \n",
      "    letterNs.append(max_N)\n",
      "    decLetter = tree.DecisionTreeClassifier(max_depth=max_N)\n",
      "    decLetter.fit(letter_train[:,:XInd],letter_train[:,YInd])\n",
      "\n",
      "    \n",
      "    trainerror = (1. - accuracy_score(letter_train[:,YInd], decLetter.predict(letter_train[:,:XInd]) ))\n",
      "    letterTrainPrune.append(trainerror)\n",
      "\n",
      "    decLetter.fit(letter_train[:,:XInd], letter_train[:,YInd])\n",
      "    error = (1. - accuracy_score(letter_test[:,YInd], decLetter.predict(letter_test[:,:XInd]) ))\n",
      "    letterTestPrune.append(error)\n",
      "    \n"
     ],
     "language": "python",
     "metadata": {},
     "outputs": [
      {
       "output_type": "stream",
       "stream": "stdout",
       "text": [
        "0.237962962963\n",
        "0\n"
       ]
      }
     ],
     "prompt_number": 42
    },
    {
     "cell_type": "code",
     "collapsed": false,
     "input": [
      "plt.figure(8)\n",
      "\n",
      "plt.plot(letterN,letterTestError , 'k', c='blue', label='Testing Error')\n",
      "plt.plot(letterN,letterTrainError , 'k', c='red', label='Training Error')\n",
      "plt.legend()\n",
      "plt.plot(letterN,letterTestError , 'bo',c='blue')\n",
      "plt.plot(letterN,letterTrainError, 'bo', c='red')\n",
      "plt.ylabel('Error')\n",
      "plt.xlabel('Number of Instances For Training Data')\n",
      "plt.title('Hypothesis Erros for Letter Data (Without Pruning) ')\n",
      "plt.show()"
     ],
     "language": "python",
     "metadata": {},
     "outputs": [],
     "prompt_number": 47
    },
    {
     "cell_type": "code",
     "collapsed": false,
     "input": [
      "plt.figure(9)\n",
      "\n",
      "plt.plot(letterNs,letterTestPrune , 'k', c='blue', label='Testing Error')\n",
      "plt.plot(letterNs,letterTrainPrune , 'k', c='red', label='Training Error')\n",
      "plt.legend()\n",
      "plt.plot(letterNs,letterTestPrune , 'bo',c='blue')\n",
      "plt.plot(letterNs,letterTrainPrune, 'bo', c='red')\n",
      "plt.ylabel('Error')\n",
      "plt.xlabel('Number of Instances For Training Data')\n",
      "plt.title('Hypothesis Erros for Letter Data (With Pruning) ')\n",
      "plt.show()"
     ],
     "language": "python",
     "metadata": {},
     "outputs": [],
     "prompt_number": 48
    },
    {
     "cell_type": "code",
     "collapsed": false,
     "input": [
      "from sklearn.cross_validation import cross_val_score, KFold\n",
      "\n",
      "cross = KFold(400, n_folds=10)\n"
     ],
     "language": "python",
     "metadata": {},
     "outputs": [
      {
       "metadata": {},
       "output_type": "pyout",
       "prompt_number": 18,
       "text": [
        "sklearn.cross_validation.KFold(n=400, n_folds=10)"
       ]
      }
     ],
     "prompt_number": 18
    },
    {
     "cell_type": "code",
     "collapsed": false,
     "input": [
      "for train_index, test_index in cross:\n",
      "    #print(\"TRAIN:\", train_index, \"TEST:\", test_index)\n",
      "    X_train, X_test = training[:,1:][train_index], training[:,1:][test_index]\n",
      "    y_train, y_test = training[:,0][train_index], training[:,0][test_index]"
     ],
     "language": "python",
     "metadata": {},
     "outputs": [],
     "prompt_number": 20
    },
    {
     "cell_type": "code",
     "collapsed": false,
     "input": [
      "robot_train[:,len(robotdata.columns)-1].apply(int())"
     ],
     "language": "python",
     "metadata": {},
     "outputs": [
      {
       "ename": "AttributeError",
       "evalue": "'numpy.ndarray' object has no attribute 'apply'",
       "output_type": "pyerr",
       "traceback": [
        "\u001b[0;31m---------------------------------------------------------------------------\u001b[0m\n\u001b[0;31mAttributeError\u001b[0m                            Traceback (most recent call last)",
        "\u001b[0;32m<ipython-input-53-78a4faec20bc>\u001b[0m in \u001b[0;36m<module>\u001b[0;34m()\u001b[0m\n\u001b[0;32m----> 1\u001b[0;31m \u001b[0mrobot_train\u001b[0m\u001b[0;34m[\u001b[0m\u001b[0;34m:\u001b[0m\u001b[0;34m,\u001b[0m\u001b[0mlen\u001b[0m\u001b[0;34m(\u001b[0m\u001b[0mrobotdata\u001b[0m\u001b[0;34m.\u001b[0m\u001b[0mcolumns\u001b[0m\u001b[0;34m)\u001b[0m\u001b[0;34m-\u001b[0m\u001b[0;36m1\u001b[0m\u001b[0;34m]\u001b[0m\u001b[0;34m.\u001b[0m\u001b[0mapply\u001b[0m\u001b[0;34m(\u001b[0m\u001b[0mint\u001b[0m\u001b[0;34m(\u001b[0m\u001b[0;34m)\u001b[0m\u001b[0;34m)\u001b[0m\u001b[0;34m\u001b[0m\u001b[0m\n\u001b[0m",
        "\u001b[0;31mAttributeError\u001b[0m: 'numpy.ndarray' object has no attribute 'apply'"
       ]
      }
     ],
     "prompt_number": 53
    },
    {
     "cell_type": "code",
     "collapsed": false,
     "input": [
      "decRobot.predict(robot_train[:,:len(robotdata.columns)-1])"
     ],
     "language": "python",
     "metadata": {},
     "outputs": [
      {
       "ename": "ValueError",
       "evalue": "Number of features of the model must  match the input. Model n_features is 24 and  input n_features is 5450 ",
       "output_type": "pyerr",
       "traceback": [
        "\u001b[0;31m---------------------------------------------------------------------------\u001b[0m\n\u001b[0;31mValueError\u001b[0m                                Traceback (most recent call last)",
        "\u001b[0;32m<ipython-input-62-b21165555e63>\u001b[0m in \u001b[0;36m<module>\u001b[0;34m()\u001b[0m\n\u001b[0;32m----> 1\u001b[0;31m \u001b[0mdecRobot\u001b[0m\u001b[0;34m.\u001b[0m\u001b[0mpredict\u001b[0m\u001b[0;34m(\u001b[0m\u001b[0mrobot_train\u001b[0m\u001b[0;34m[\u001b[0m\u001b[0;34m:\u001b[0m\u001b[0;34m,\u001b[0m\u001b[0;36m0\u001b[0m\u001b[0;34m]\u001b[0m\u001b[0;34m)\u001b[0m\u001b[0;34m\u001b[0m\u001b[0m\n\u001b[0m",
        "\u001b[0;32m/usr/lib/python2.7/dist-packages/sklearn/tree/tree.pyc\u001b[0m in \u001b[0;36mpredict\u001b[0;34m(self, X)\u001b[0m\n\u001b[1;32m    280\u001b[0m                              \u001b[0;34m\" match the input. Model n_features is %s and \"\u001b[0m\u001b[0;34m\u001b[0m\u001b[0m\n\u001b[1;32m    281\u001b[0m                              \u001b[0;34m\" input n_features is %s \"\u001b[0m\u001b[0;34m\u001b[0m\u001b[0m\n\u001b[0;32m--> 282\u001b[0;31m                              % (self.n_features_, n_features))\n\u001b[0m\u001b[1;32m    283\u001b[0m \u001b[0;34m\u001b[0m\u001b[0m\n\u001b[1;32m    284\u001b[0m         \u001b[0mproba\u001b[0m \u001b[0;34m=\u001b[0m \u001b[0mself\u001b[0m\u001b[0;34m.\u001b[0m\u001b[0mtree_\u001b[0m\u001b[0;34m.\u001b[0m\u001b[0mpredict\u001b[0m\u001b[0;34m(\u001b[0m\u001b[0mX\u001b[0m\u001b[0;34m)\u001b[0m\u001b[0;34m\u001b[0m\u001b[0m\n",
        "\u001b[0;31mValueError\u001b[0m: Number of features of the model must  match the input. Model n_features is 24 and  input n_features is 5450 "
       ]
      }
     ],
     "prompt_number": 62
    },
    {
     "cell_type": "code",
     "collapsed": false,
     "input": [
      "robot_train[:,len(robotdata.columns)-1]"
     ],
     "language": "python",
     "metadata": {},
     "outputs": [
      {
       "metadata": {},
       "output_type": "pyout",
       "prompt_number": 65,
       "text": [
        "array([ 0.,  1.,  0., ...,  3.,  2.,  2.])"
       ]
      }
     ],
     "prompt_number": 65
    },
    {
     "cell_type": "code",
     "collapsed": false,
     "input": [
      "decRobot"
     ],
     "language": "python",
     "metadata": {},
     "outputs": [
      {
       "metadata": {},
       "output_type": "pyout",
       "prompt_number": 68,
       "text": [
        "DecisionTreeClassifier(compute_importances=None, criterion='gini',\n",
        "            max_depth=None, max_features=None, min_density=None,\n",
        "            min_samples_leaf=1, min_samples_split=2, random_state=None,\n",
        "            splitter='best')"
       ]
      }
     ],
     "prompt_number": 68
    },
    {
     "cell_type": "code",
     "collapsed": false,
     "input": [
      "from sklearn.externals.six import StringIO  \n",
      "import pydot \n",
      "dot_data = StringIO()\n",
      "tree.export_graphviz(decConnect, out_file=dot_data) \n",
      "graph = pydot.graph_from_dot_data(dot_data.getvalue()) \n",
      "graph.write_pdf(\"connect2.pdf\")"
     ],
     "language": "python",
     "metadata": {},
     "outputs": [
      {
       "metadata": {},
       "output_type": "pyout",
       "prompt_number": 219,
       "text": [
        "True"
       ]
      }
     ],
     "prompt_number": 219
    },
    {
     "cell_type": "code",
     "collapsed": false,
     "input": [
      "sk.__version__"
     ],
     "language": "python",
     "metadata": {},
     "outputs": [
      {
       "metadata": {},
       "output_type": "pyout",
       "prompt_number": 245,
       "text": [
        "'0.14.1'"
       ]
      }
     ],
     "prompt_number": 245
    },
    {
     "cell_type": "code",
     "collapsed": false,
     "input": [
      "productRev(testPercent)"
     ],
     "language": "python",
     "metadata": {},
     "outputs": [
      {
       "metadata": {},
       "output_type": "pyout",
       "prompt_number": 186,
       "text": [
        "0.5217031"
       ]
      }
     ],
     "prompt_number": 186
    },
    {
     "cell_type": "code",
     "collapsed": false,
     "input": [],
     "language": "python",
     "metadata": {},
     "outputs": [
      {
       "metadata": {},
       "output_type": "pyout",
       "prompt_number": 228,
       "text": [
        "67.5"
       ]
      }
     ],
     "prompt_number": 228
    },
    {
     "cell_type": "code",
     "collapsed": false,
     "input": [],
     "language": "python",
     "metadata": {},
     "outputs": []
    }
   ],
   "metadata": {}
  }
 ]
}