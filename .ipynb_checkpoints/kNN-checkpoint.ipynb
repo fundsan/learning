{
 "metadata": {
  "name": ""
 },
 "nbformat": 3,
 "nbformat_minor": 0,
 "worksheets": [
  {
   "cells": [
    {
     "cell_type": "code",
     "collapsed": false,
     "input": [
      "from sklearn.ensemble import AdaBoostClassifier\n",
      "from sklearn.externals.six.moves import zip\n",
      "\n",
      "import matplotlib.pyplot as plt\n",
      "\n",
      "from sklearn.datasets import make_gaussian_quantiles\n",
      "from sklearn import svm\n",
      "from sklearn.metrics import accuracy_score\n",
      "from sklearn.tree import DecisionTreeClassifier\n",
      "import numpy as np\n",
      "import pandas as pd\n",
      "import sklearn as sk\n",
      "from sklearn import preprocessing\n",
      "\n",
      "coveragedata = pd.read_csv('foresttrain.csv', header= 0) \n",
      "coveragedata.drop('Id', axis = 1)\n",
      "connectdata = pd.read_csv('connect-4.csv', header= None) \n",
      "\n",
      "def splitColumns(dataset):\n",
      "    columns = []\n",
      "    binar = []\n",
      "    for key in dataset.columns:\n",
      "    \n",
      "        if len(dataset[key].groupby(dataset[key]).groups.keys()) >2:\n",
      "            columns.append(key)\n",
      "            \n",
      "        else:\n",
      "            binar.append(key)\n",
      "    return columns, binar\n",
      "connectCol, _ = splitColumns(connectdata)\n",
      "connectCol.remove(len(connectdata.columns)-1)\n",
      "from sklearn.feature_extraction import DictVectorizer\n",
      "\n",
      "def hot_dataframe(data, cols, replace=False):\n",
      "    \"\"\" \n",
      "    Modified from https://gist.github.com/kljensen/5452382\n",
      "    \"\"\"\n",
      "    vec = DictVectorizer()\n",
      "    #mkdict = lambda row: dict((col, row[col]) for col in cols)\n",
      "    collist = [column for column in cols.columns]\n",
      "    vecData = pd.DataFrame(vec.fit_transform(cols.to_dict(outtype='records')).toarray())\n",
      "    vecData.columns = vec.get_feature_names()\n",
      "    vecData.index = data.index\n",
      "    \n",
      "    if replace is True:\n",
      "        \n",
      "        data = data.drop(collist, axis=1)\n",
      "        data = data.join(vecData)\n",
      "    \n",
      "    return data, vecData\n",
      "\n",
      "connectdata, _ = hot_dataframe(connectdata,connectdata[connectCol],replace=True)\n",
      "\n",
      "\n",
      "\n",
      "def labelEncode(data, col, uni = False):\n",
      "    if uni == True:\n",
      "        if isinstance(col, pd.DataFrame):\n",
      "            collist = [column for column in col.columns]\n",
      "        else:\n",
      "            collist = [col.name]\n",
      "    else:\n",
      "        collist = col\n",
      "    le = preprocessing.LabelEncoder()\n",
      "    for column in collist:\n",
      "        data[column] = le.fit_transform(data[column])\n",
      "    return data\n",
      "connectdata = labelEncode( connectdata, connectdata[42],True)\n"
     ],
     "language": "python",
     "metadata": {},
     "outputs": [],
     "prompt_number": 1
    },
    {
     "cell_type": "code",
     "collapsed": false,
     "input": [
      "from sklearn.cross_validation import train_test_split\n",
      "import IPython.utils.timing as itime\n",
      "\n",
      "import random\n",
      "connect_train, connect_test = train_test_split(connectdata,test_size = .5, random_state = 21)\n",
      "coverage_train, coverage_test = train_test_split(coveragedata,test_size = .5, random_state = 21)"
     ],
     "language": "python",
     "metadata": {},
     "outputs": [],
     "prompt_number": 4
    },
    {
     "cell_type": "code",
     "collapsed": false,
     "input": [
      "clock = itime.clocks\n",
      "connect_train, connect_test = train_test_split(connectdata,test_size = .5, random_state = 21)\n",
      "from sklearn.neighbors import KNeighborsClassifier\n",
      "connect_test_errors3 = []\n",
      "connect_train_errors3 = []\n",
      "connect_Ns = []\n",
      "for i in range(10):\n",
      "    print i\n",
      "    connect_Ns.append(len(connect_train))\n",
      "    connect = KNeighborsClassifier(3, algorithm = 'kd_tree',p = 1)\n",
      "    connect.fit(connect_train[:,1:], connect_train[:,0]) \n",
      "    connect_train_errors3.append(1. - accuracy_score(connect_train[:,0], connect.predict(connect_train[:,1:])))\n",
      "    connect_test_errors3.append(1. - accuracy_score(connect_test[:,0], connect.predict(connect_test[:,1:])))\n",
      "    connect_train, _ = train_test_split(connect_train,test_size = .2, random_state = 21)\n",
      "clock = item.clocks - clock\n",
      "print clock"
     ],
     "language": "python",
     "metadata": {},
     "outputs": [],
     "prompt_number": "*"
    },
    {
     "cell_type": "code",
     "collapsed": false,
     "input": [
      "clock = itime.clocks\n",
      "connect_train, connect_test = train_test_split(connectdata,test_size = .5, random_state = 21)\n",
      "from sklearn.neighbors import KNeighborsClassifier\n",
      "connect_test_errors2 = []\n",
      "connect_train_errors2 = []\n",
      "connect_Ns = []\n",
      "for i in range(10):\n",
      "    print i\n",
      "    connect_Ns.append(len(connect_train))\n",
      "    connect = KNeighborsClassifier(2, algorithm = 'kd_tree',p = 1 )\n",
      "    connect.fit(connect_train[:,1:], connect_train[:,0]) \n",
      "    connect_train_errors2.append(1. - accuracy_score(connect_train[:,0], connect.predict(connect_train[:,1:])))\n",
      "    connect_test_errors2.append(1. - accuracy_score(connect_test[:,0], connect.predict(connect_test[:,1:])))\n",
      "    connect_train, _ = train_test_split(connect_train,test_size = .2, random_state = 21)\n",
      "clock = item.clocks - clock\n",
      "print clock"
     ],
     "language": "python",
     "metadata": {},
     "outputs": []
    },
    {
     "cell_type": "code",
     "collapsed": false,
     "input": [
      "len(connect_test_errors)"
     ],
     "language": "python",
     "metadata": {},
     "outputs": []
    },
    {
     "cell_type": "code",
     "collapsed": false,
     "input": [
      "clock = itime.clocks()\n",
      "coverage_test_errors2 = []\n",
      "coverage_train_errors2 = []\n",
      "coverage_Ns = []\n",
      "for i in range(10)\n",
      "    print i \n",
      "    coverage_Ns.append(len(connect_train))|\n",
      "    coverage_train, _ = train_test_split(coveragedata,test_size = .5, random_state = 21)\n",
      "    coverage2 = KNeighborsClassifier(2, algorithm = 'kd_tree',p = 1)\n",
      "    coverage.fit(coverage_train[:,:len(coveragedata.columns)-1], coverage_train[:,len(coveragedata.columns)-1]) \n",
      "    coverage_train_errors2.append(1. - accuracy_score(connect_test[:,0], connect.predict(connect_test[:,1:])))\n",
      "    coverage_test_errors2.appending(1. - accuracy_score(coverage_test[:,len(coveragedata.columns)-1],coverage.predict(coverage_test[:,:len(coveragedata.columns)-1])))\n",
      "  print itime.clocks() - clock  "
     ],
     "language": "python",
     "metadata": {},
     "outputs": [
      {
       "output_type": "stream",
       "stream": "stdout",
       "text": [
        "0.281257195487\n",
        "0.271838729383"
       ]
      },
      {
       "output_type": "stream",
       "stream": "stdout",
       "text": [
        "\n"
       ]
      }
     ],
     "prompt_number": 8
    },
    {
     "cell_type": "code",
     "collapsed": false,
     "input": [
      "clock = itime.clocks()\n",
      "coverage_test_errors3 = []\n",
      "coverage_train_errors3 = []\n",
      "coverage_Ns = []\n",
      "for i in range(10)\n",
      "    print i \n",
      "    coverage_Ns.append(len(connect_train))|\n",
      "    coverage_train, _ = train_test_split(coveragedata,test_size = .5, random_state = 21)\n",
      "    coverage3 = KNeighborsClassifier(3, algorithm = 'kd_tree', p = 1)\n",
      "    coverage.fit(coverage_train[:,:len(coveragedata.columns)-1], coverage_train[:,len(coveragedata.columns)-1]) \n",
      "    coverage_train_errors3.append(1. - accuracy_score(connect_test[:,0], connect.predict(connect_test[:,1:])))\n",
      "    coverage_test_errors3.appending(1. - accuracy_score(coverage_test[:,len(coveragedata.columns)-1],coverage.predict(coverage_test[:,:len(coveragedata.columns)-1])))\n",
      "  print itime.clocks() - clock  "
     ],
     "language": "python",
     "metadata": {},
     "outputs": []
    }
   ],
   "metadata": {}
  }
 ]
}